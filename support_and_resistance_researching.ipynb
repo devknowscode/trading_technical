{
 "cells": [
  {
   "cell_type": "code",
   "execution_count": null,
   "metadata": {},
   "outputs": [],
   "source": [
    "%pip install seaborn"
   ]
  },
  {
   "cell_type": "code",
   "execution_count": 1,
   "metadata": {},
   "outputs": [],
   "source": [
    "import pandas as pd\n",
    "import numpy as np\n",
    "import matplotlib.pyplot as plt\n",
    "import seaborn as sns\n",
    "import ccxt\n",
    "from scipy.signal import argrelextrema, find_peaks"
   ]
  },
  {
   "cell_type": "markdown",
   "metadata": {},
   "source": [
    "### Download data\n"
   ]
  },
  {
   "cell_type": "code",
   "execution_count": null,
   "metadata": {},
   "outputs": [],
   "source": [
    "exchange_id = \"binance\"\n",
    "exchange_class = getattr(ccxt, exchange_id)\n",
    "exchange = exchange_class({})\n",
    "exchange.id"
   ]
  },
  {
   "cell_type": "code",
   "execution_count": null,
   "metadata": {},
   "outputs": [],
   "source": [
    "# check exchange has fetch_ohlcv\n",
    "exchange.has[\"fetchOHLCV\"]"
   ]
  },
  {
   "cell_type": "code",
   "execution_count": 2,
   "metadata": {},
   "outputs": [],
   "source": [
    "symbol = \"BTCUSDT\"\n",
    "timeframe = \"1d\""
   ]
  },
  {
   "cell_type": "code",
   "execution_count": null,
   "metadata": {},
   "outputs": [],
   "source": [
    "ohlcv = exchange.fetch_ohlcv(symbol, timeframe, limit=1000)\n",
    "ohlcv"
   ]
  },
  {
   "cell_type": "code",
   "execution_count": null,
   "metadata": {},
   "outputs": [],
   "source": [
    "df = pd.DataFrame(ohlcv, columns=[\"Date\", \"Open\", \"High\", \"Low\", \"Close\", \"Volume\"])\n",
    "df"
   ]
  },
  {
   "cell_type": "code",
   "execution_count": null,
   "metadata": {},
   "outputs": [],
   "source": [
    "df[\"Date\"] = pd.to_datetime(df[\"Date\"], unit='ms')\n",
    "df = df.set_index(\"Date\")\n",
    "df"
   ]
  },
  {
   "cell_type": "code",
   "execution_count": 3,
   "metadata": {},
   "outputs": [
    {
     "ename": "NameError",
     "evalue": "name 'df' is not defined",
     "output_type": "error",
     "traceback": [
      "\u001b[0;31m---------------------------------------------------------------------------\u001b[0m",
      "\u001b[0;31mNameError\u001b[0m                                 Traceback (most recent call last)",
      "Cell \u001b[0;32mIn[3], line 1\u001b[0m\n\u001b[0;32m----> 1\u001b[0m \u001b[43mdf\u001b[49m\u001b[38;5;241m.\u001b[39mto_csv(\u001b[38;5;124mf\u001b[39m\u001b[38;5;124m'\u001b[39m\u001b[38;5;124m./data/btcusdt\u001b[39m\u001b[38;5;132;01m{\u001b[39;00mtimeframe\u001b[38;5;132;01m}\u001b[39;00m\u001b[38;5;124m.csv\u001b[39m\u001b[38;5;124m'\u001b[39m)\n",
      "\u001b[0;31mNameError\u001b[0m: name 'df' is not defined"
     ]
    }
   ],
   "source": [
    "df.to_csv(f'./data/btcusdt{timeframe}.csv')"
   ]
  },
  {
   "cell_type": "code",
   "execution_count": 4,
   "metadata": {},
   "outputs": [
    {
     "data": {
      "application/vnd.microsoft.datawrangler.viewer.v0+json": {
       "columns": [
        {
         "name": "Date",
         "rawType": "datetime64[ns]",
         "type": "datetime"
        },
        {
         "name": "Open",
         "rawType": "float64",
         "type": "float"
        },
        {
         "name": "High",
         "rawType": "float64",
         "type": "float"
        },
        {
         "name": "Low",
         "rawType": "float64",
         "type": "float"
        },
        {
         "name": "Close",
         "rawType": "float64",
         "type": "float"
        },
        {
         "name": "Volume",
         "rawType": "float64",
         "type": "float"
        }
       ],
       "conversionMethod": "pd.DataFrame",
       "ref": "78e72ae1-d575-4bc7-8ea4-d9675fc7f5d9",
       "rows": [
        [
         "2023-10-15 00:00:00",
         "26852.48",
         "27293.33",
         "26808.25",
         "27154.15",
         "15274.6917"
        ],
        [
         "2023-10-16 00:00:00",
         "27154.14",
         "30000.0",
         "27112.66",
         "28500.78",
         "78399.22445"
        ],
        [
         "2023-10-17 00:00:00",
         "28500.77",
         "28613.65",
         "28069.32",
         "28395.91",
         "38428.44532"
        ],
        [
         "2023-10-18 00:00:00",
         "28395.91",
         "28982.36",
         "28142.87",
         "28320.0",
         "32162.47591"
        ],
        [
         "2023-10-19 00:00:00",
         "28320.0",
         "28916.89",
         "28100.66",
         "28713.71",
         "35895.50179"
        ],
        [
         "2023-10-20 00:00:00",
         "28713.71",
         "30207.55",
         "28578.29",
         "29669.04",
         "59422.0992"
        ],
        [
         "2023-10-21 00:00:00",
         "29669.05",
         "30379.99",
         "29464.77",
         "29909.8",
         "27517.51897"
        ],
        [
         "2023-10-22 00:00:00",
         "29909.8",
         "30248.0",
         "29640.0",
         "29992.46",
         "22852.54563"
        ],
        [
         "2023-10-23 00:00:00",
         "29992.46",
         "34741.91",
         "29883.6",
         "33069.99",
         "93513.64246"
        ],
        [
         "2023-10-24 00:00:00",
         "33069.99",
         "35280.0",
         "32832.34",
         "33922.73",
         "115265.02418"
        ],
        [
         "2023-10-25 00:00:00",
         "33922.73",
         "35132.85",
         "33679.05",
         "34496.05",
         "54887.02529"
        ],
        [
         "2023-10-26 00:00:00",
         "34496.05",
         "34824.13",
         "33751.0",
         "34151.66",
         "39744.66255"
        ],
        [
         "2023-10-27 00:00:00",
         "34151.66",
         "34245.0",
         "33390.95",
         "33892.02",
         "32330.40106"
        ],
        [
         "2023-10-28 00:00:00",
         "33892.01",
         "34493.33",
         "33860.0",
         "34081.0",
         "16880.13144"
        ],
        [
         "2023-10-29 00:00:00",
         "34081.01",
         "34750.11",
         "33930.0",
         "34525.89",
         "20685.52176"
        ],
        [
         "2023-10-30 00:00:00",
         "34525.88",
         "34856.0",
         "34062.84",
         "34474.73",
         "33657.95976"
        ],
        [
         "2023-10-31 00:00:00",
         "34474.74",
         "34720.49",
         "34025.0",
         "34639.77",
         "32737.89822"
        ],
        [
         "2023-11-01 00:00:00",
         "34639.78",
         "35582.0",
         "34097.39",
         "35421.43",
         "53473.28165"
        ],
        [
         "2023-11-02 00:00:00",
         "35421.43",
         "35984.99",
         "34300.0",
         "34941.59",
         "48015.57732"
        ],
        [
         "2023-11-03 00:00:00",
         "34941.58",
         "34946.5",
         "34120.0",
         "34716.78",
         "39071.20644"
        ],
        [
         "2023-11-04 00:00:00",
         "34716.78",
         "35255.0",
         "34585.18",
         "35062.07",
         "18377.55545"
        ],
        [
         "2023-11-05 00:00:00",
         "35062.06",
         "35380.0",
         "34448.0",
         "35011.88",
         "24528.73376"
        ],
        [
         "2023-11-06 00:00:00",
         "35011.89",
         "35276.33",
         "34725.9",
         "35046.09",
         "22346.47086"
        ],
        [
         "2023-11-07 00:00:00",
         "35046.09",
         "35888.0",
         "34523.06",
         "35399.12",
         "38688.73692"
        ],
        [
         "2023-11-08 00:00:00",
         "35399.13",
         "36106.0",
         "35100.0",
         "35624.72",
         "33401.34137"
        ],
        [
         "2023-11-09 00:00:00",
         "35624.72",
         "37972.24",
         "35534.05",
         "36701.09",
         "82537.88885"
        ],
        [
         "2023-11-10 00:00:00",
         "36701.1",
         "37526.0",
         "36324.71",
         "37301.63",
         "43414.04898"
        ],
        [
         "2023-11-11 00:00:00",
         "37301.63",
         "37408.26",
         "36666.93",
         "37130.0",
         "22984.97235"
        ],
        [
         "2023-11-12 00:00:00",
         "37129.99",
         "37222.22",
         "36731.1",
         "37064.13",
         "17687.18874"
        ],
        [
         "2023-11-13 00:00:00",
         "37064.13",
         "37417.99",
         "36333.0",
         "36462.93",
         "32798.18252"
        ],
        [
         "2023-11-14 00:00:00",
         "36462.93",
         "36744.0",
         "34800.0",
         "35551.19",
         "45503.68416"
        ],
        [
         "2023-11-15 00:00:00",
         "35551.2",
         "37980.0",
         "35360.0",
         "37858.2",
         "53569.13385"
        ],
        [
         "2023-11-16 00:00:00",
         "37858.2",
         "37929.54",
         "35500.0",
         "36163.51",
         "47490.39566"
        ],
        [
         "2023-11-17 00:00:00",
         "36163.51",
         "36800.0",
         "35861.1",
         "36613.92",
         "38283.61112"
        ],
        [
         "2023-11-18 00:00:00",
         "36613.91",
         "36845.49",
         "36178.58",
         "36568.1",
         "17102.24186"
        ],
        [
         "2023-11-19 00:00:00",
         "36568.11",
         "37500.0",
         "36384.02",
         "37359.86",
         "21246.34648"
        ],
        [
         "2023-11-20 00:00:00",
         "37359.85",
         "37750.0",
         "36677.0",
         "37448.78",
         "36022.70291"
        ],
        [
         "2023-11-21 00:00:00",
         "37448.79",
         "37649.44",
         "35735.0",
         "35741.65",
         "47646.54804"
        ],
        [
         "2023-11-22 00:00:00",
         "35741.65",
         "37861.1",
         "35632.01",
         "37408.34",
         "45051.30697"
        ],
        [
         "2023-11-23 00:00:00",
         "37408.35",
         "37653.44",
         "36870.0",
         "37294.28",
         "23827.92882"
        ],
        [
         "2023-11-24 00:00:00",
         "37294.27",
         "38414.0",
         "37251.51",
         "37713.57",
         "44680.80646"
        ],
        [
         "2023-11-25 00:00:00",
         "37713.57",
         "37888.0",
         "37591.1",
         "37780.67",
         "11396.14464"
        ],
        [
         "2023-11-26 00:00:00",
         "37780.67",
         "37814.63",
         "37150.0",
         "37447.43",
         "21264.53723"
        ],
        [
         "2023-11-27 00:00:00",
         "37447.42",
         "37569.23",
         "36707.0",
         "37242.7",
         "30001.07376"
        ],
        [
         "2023-11-28 00:00:00",
         "37242.7",
         "38377.0",
         "36868.41",
         "37818.87",
         "37544.46667"
        ],
        [
         "2023-11-29 00:00:00",
         "37818.88",
         "38450.0",
         "37570.0",
         "37854.64",
         "32994.19107"
        ],
        [
         "2023-11-30 00:00:00",
         "37854.65",
         "38145.85",
         "37500.0",
         "37723.96",
         "24740.29147"
        ],
        [
         "2023-12-01 00:00:00",
         "37723.97",
         "38999.0",
         "37615.86",
         "38682.52",
         "43415.66324"
        ],
        [
         "2023-12-02 00:00:00",
         "38682.51",
         "39717.14",
         "38641.61",
         "39450.35",
         "26696.92161"
        ],
        [
         "2023-12-03 00:00:00",
         "39450.35",
         "40250.0",
         "39274.86",
         "39972.26",
         "26710.65335"
        ]
       ],
       "shape": {
        "columns": 5,
        "rows": 500
       }
      },
      "text/html": [
       "<div>\n",
       "<style scoped>\n",
       "    .dataframe tbody tr th:only-of-type {\n",
       "        vertical-align: middle;\n",
       "    }\n",
       "\n",
       "    .dataframe tbody tr th {\n",
       "        vertical-align: top;\n",
       "    }\n",
       "\n",
       "    .dataframe thead th {\n",
       "        text-align: right;\n",
       "    }\n",
       "</style>\n",
       "<table border=\"1\" class=\"dataframe\">\n",
       "  <thead>\n",
       "    <tr style=\"text-align: right;\">\n",
       "      <th></th>\n",
       "      <th>Open</th>\n",
       "      <th>High</th>\n",
       "      <th>Low</th>\n",
       "      <th>Close</th>\n",
       "      <th>Volume</th>\n",
       "    </tr>\n",
       "    <tr>\n",
       "      <th>Date</th>\n",
       "      <th></th>\n",
       "      <th></th>\n",
       "      <th></th>\n",
       "      <th></th>\n",
       "      <th></th>\n",
       "    </tr>\n",
       "  </thead>\n",
       "  <tbody>\n",
       "    <tr>\n",
       "      <th>2023-10-15</th>\n",
       "      <td>26852.48</td>\n",
       "      <td>27293.33</td>\n",
       "      <td>26808.25</td>\n",
       "      <td>27154.15</td>\n",
       "      <td>15274.69170</td>\n",
       "    </tr>\n",
       "    <tr>\n",
       "      <th>2023-10-16</th>\n",
       "      <td>27154.14</td>\n",
       "      <td>30000.00</td>\n",
       "      <td>27112.66</td>\n",
       "      <td>28500.78</td>\n",
       "      <td>78399.22445</td>\n",
       "    </tr>\n",
       "    <tr>\n",
       "      <th>2023-10-17</th>\n",
       "      <td>28500.77</td>\n",
       "      <td>28613.65</td>\n",
       "      <td>28069.32</td>\n",
       "      <td>28395.91</td>\n",
       "      <td>38428.44532</td>\n",
       "    </tr>\n",
       "    <tr>\n",
       "      <th>2023-10-18</th>\n",
       "      <td>28395.91</td>\n",
       "      <td>28982.36</td>\n",
       "      <td>28142.87</td>\n",
       "      <td>28320.00</td>\n",
       "      <td>32162.47591</td>\n",
       "    </tr>\n",
       "    <tr>\n",
       "      <th>2023-10-19</th>\n",
       "      <td>28320.00</td>\n",
       "      <td>28916.89</td>\n",
       "      <td>28100.66</td>\n",
       "      <td>28713.71</td>\n",
       "      <td>35895.50179</td>\n",
       "    </tr>\n",
       "    <tr>\n",
       "      <th>...</th>\n",
       "      <td>...</td>\n",
       "      <td>...</td>\n",
       "      <td>...</td>\n",
       "      <td>...</td>\n",
       "      <td>...</td>\n",
       "    </tr>\n",
       "    <tr>\n",
       "      <th>2025-02-21</th>\n",
       "      <td>98305.01</td>\n",
       "      <td>99475.00</td>\n",
       "      <td>94871.95</td>\n",
       "      <td>96181.98</td>\n",
       "      <td>32249.28140</td>\n",
       "    </tr>\n",
       "    <tr>\n",
       "      <th>2025-02-22</th>\n",
       "      <td>96181.99</td>\n",
       "      <td>96980.00</td>\n",
       "      <td>95770.49</td>\n",
       "      <td>96551.01</td>\n",
       "      <td>11268.17708</td>\n",
       "    </tr>\n",
       "    <tr>\n",
       "      <th>2025-02-23</th>\n",
       "      <td>96551.01</td>\n",
       "      <td>96650.00</td>\n",
       "      <td>95227.94</td>\n",
       "      <td>96258.00</td>\n",
       "      <td>10884.84913</td>\n",
       "    </tr>\n",
       "    <tr>\n",
       "      <th>2025-02-24</th>\n",
       "      <td>96258.00</td>\n",
       "      <td>96500.00</td>\n",
       "      <td>91349.26</td>\n",
       "      <td>91552.88</td>\n",
       "      <td>31550.10299</td>\n",
       "    </tr>\n",
       "    <tr>\n",
       "      <th>2025-02-25</th>\n",
       "      <td>91552.88</td>\n",
       "      <td>92540.69</td>\n",
       "      <td>90912.01</td>\n",
       "      <td>92038.01</td>\n",
       "      <td>10689.53923</td>\n",
       "    </tr>\n",
       "  </tbody>\n",
       "</table>\n",
       "<p>500 rows × 5 columns</p>\n",
       "</div>"
      ],
      "text/plain": [
       "                Open      High       Low     Close       Volume\n",
       "Date                                                           \n",
       "2023-10-15  26852.48  27293.33  26808.25  27154.15  15274.69170\n",
       "2023-10-16  27154.14  30000.00  27112.66  28500.78  78399.22445\n",
       "2023-10-17  28500.77  28613.65  28069.32  28395.91  38428.44532\n",
       "2023-10-18  28395.91  28982.36  28142.87  28320.00  32162.47591\n",
       "2023-10-19  28320.00  28916.89  28100.66  28713.71  35895.50179\n",
       "...              ...       ...       ...       ...          ...\n",
       "2025-02-21  98305.01  99475.00  94871.95  96181.98  32249.28140\n",
       "2025-02-22  96181.99  96980.00  95770.49  96551.01  11268.17708\n",
       "2025-02-23  96551.01  96650.00  95227.94  96258.00  10884.84913\n",
       "2025-02-24  96258.00  96500.00  91349.26  91552.88  31550.10299\n",
       "2025-02-25  91552.88  92540.69  90912.01  92038.01  10689.53923\n",
       "\n",
       "[500 rows x 5 columns]"
      ]
     },
     "execution_count": 4,
     "metadata": {},
     "output_type": "execute_result"
    }
   ],
   "source": [
    "df = pd.read_csv(f\"./data/btcusdt{timeframe}.csv\", index_col=[\"Date\"], parse_dates=[\"Date\"])\n",
    "df"
   ]
  },
  {
   "cell_type": "markdown",
   "metadata": {},
   "source": [
    "### `ZigZag` algorithm with `Argrelextrema` (rolling, for loop...)\n"
   ]
  },
  {
   "cell_type": "code",
   "execution_count": null,
   "metadata": {},
   "outputs": [],
   "source": [
    "import numpy as np\n",
    "import pandas as pd\n",
    "import matplotlib.pyplot as plt\n",
    "from scipy.signal import argrelextrema\n",
    "\n",
    "class ZigZag:\n",
    "    def __init__(self, dev_threshold=5.0, depth=10):\n",
    "        self.dev_threshold = dev_threshold / 100  # Convert percentage to decimal\n",
    "        self.depth = depth\n",
    "        self.pivots = []\n",
    "\n",
    "    def find_pivots(self, highs, lows):\n",
    "        pivots = []\n",
    "        # find peaks\n",
    "        peak_indexes = argrelextrema(highs, np.greater_equal, order=self.depth)[0]\n",
    "        pivots.extend([pivot for pivot in zip(peak_indexes, highs[peak_indexes], [\"High\"] * len(peak_indexes))])\n",
    "        # find valleys\n",
    "        valley_indexes = argrelextrema(lows, np.less_equal, order=self.depth)[0]\n",
    "        pivots.extend([pivot for pivot in zip(valley_indexes, lows[valley_indexes], [\"Low\"] * len(valley_indexes))])\n",
    "        return sorted(pivots)\n",
    "\n",
    "    def apply_zigzag(self, df):\n",
    "        # prices = df[\"Close\"].values\n",
    "        highs = df[\"High\"].values\n",
    "        lows = df[\"Low\"].values\n",
    "        detected_pivots = self.find_pivots(highs, lows)\n",
    "        if not detected_pivots:\n",
    "            return []\n",
    "\n",
    "        print(len(detected_pivots))\n",
    "\n",
    "        zigzag_points = [detected_pivots[0]]\n",
    "        for i in range(1, len(detected_pivots)):\n",
    "            last_pivot = zigzag_points[-1]\n",
    "            current_pivot = detected_pivots[i]\n",
    "            # If the new pivot has a different label (High/Low), check the price change\n",
    "            if last_pivot[2] != current_pivot[2]:\n",
    "                price_change = abs(current_pivot[1] - last_pivot[1]) / last_pivot[1]\n",
    "\n",
    "                if price_change >= self.dev_threshold:\n",
    "                    zigzag_points.append(current_pivot)\n",
    "            # if current and last pivot have same label then check high or low\n",
    "            else:\n",
    "                if (len(zigzag_points) > 2):\n",
    "                    second_last_pivot = zigzag_points[-2]\n",
    "                    # Compare current pivot with the second-to-last pivot if labels are the same\n",
    "                    price_change_new = abs(current_pivot[1] - second_last_pivot[1]) / second_last_pivot[1]\n",
    "                    price_change_prev = abs(last_pivot[1] - second_last_pivot[1]) / second_last_pivot[1]\n",
    "                    if price_change_new >= price_change_prev:\n",
    "                        if current_pivot[2] == \"High\" and current_pivot[1] >= last_pivot[1]:\n",
    "                            zigzag_points[-1] = current_pivot\n",
    "                        elif current_pivot[2] == \"Low\" and current_pivot[1] <= last_pivot[1]:\n",
    "                            zigzag_points[-1] = current_pivot\n",
    "\n",
    "        self.pivots = [(df.index[i], price, label) for i, price, label in zigzag_points]  # Use index as datetime\n",
    "        return self.pivots\n",
    "\n",
    "    def plot(self, df):\n",
    "        plt.figure(figsize=(20, 6))\n",
    "        plt.plot(df.index, df[\"Close\"], label=\"Close Price\", color=\"blue\", alpha=0.5)\n",
    "\n",
    "        if self.pivots:\n",
    "            pivot_dates, pivot_prices, pivot_labels = zip(*self.pivots)\n",
    "            plt.scatter(pivot_dates, pivot_prices, c=[\"green\" if label == \"High\" else \"red\" for label in pivot_labels], label=\"Pivots\")\n",
    "            plt.plot(pivot_dates, pivot_prices, color=\"black\", linestyle=\"dashed\", alpha=0.7)\n",
    "\n",
    "        plt.xlabel(\"Date\")\n",
    "        plt.ylabel(\"Price\")\n",
    "        plt.legend()\n",
    "        plt.title(f\"ZigZag Algorithm - {timeframe}\")\n",
    "        plt.xticks(rotation=45)\n",
    "        plt.grid()\n",
    "        plt.show()\n",
    "\n",
    "\n",
    "# Example usage\n",
    "zigzag = ZigZag(dev_threshold=5, depth=10)\n",
    "zigzag.apply_zigzag(df)\n",
    "zigzag.plot(df)\n"
   ]
  },
  {
   "cell_type": "markdown",
   "metadata": {},
   "source": []
  },
  {
   "cell_type": "markdown",
   "metadata": {},
   "source": [
    "### Directional Change Algorithm"
   ]
  },
  {
   "cell_type": "code",
   "execution_count": null,
   "metadata": {},
   "outputs": [],
   "source": [
    "# class DirectionalChange():\n",
    "#     def __init__(self, threshold):\n",
    "#         self.threshold = threshold\n",
    "#         self.pivots = []\n",
    "        \n",
    "#     def find_pivots(self, close, high, low):\n",
    "#         # initial value\n",
    "#         up_zig = False\n",
    "#         peak = high[0]\n",
    "#         peak_idx = 0\n",
    "#         valley = low[0]\n",
    "#         valley_idx = 0\n",
    "\n",
    "#         # variable to store points\n",
    "#         pivot_points = []\n",
    "\n",
    "#         for i in range(1, len(close)):\n",
    "#             if up_zig:\n",
    "#                 if peak < high[i]:\n",
    "#                     peak = high[i]\n",
    "#                     peak_idx = i\n",
    "#                 elif close[i] <=  peak * (1 - self.threshold):\n",
    "#                     pivot_points.append((peak_idx, peak, \"High\"))\n",
    "\n",
    "#                     up_zig = False\n",
    "#                     valley = low[i]\n",
    "#                     valley_idx = i\n",
    "#             else:\n",
    "#                 if valley > low[i]:\n",
    "#                     valley = low[i]\n",
    "#                     valley_idx = i\n",
    "#                 elif close[i] >=  valley * (1 + self.threshold):\n",
    "#                     pivot_points.append((valley_idx, valley, \"Low\"))\n",
    "\n",
    "#                     up_zig = True\n",
    "#                     peak = high[i]\n",
    "#                     peak_idx = i\n",
    "                \n",
    "#         return pivot_points\n",
    "\n",
    "#     def fit(self, df):\n",
    "#         # convert series to numpy \n",
    "#         close = df[\"Close\"].to_numpy()\n",
    "#         high = df[\"High\"].to_numpy()\n",
    "#         low = df[\"Low\"].to_numpy()\n",
    "\n",
    "#         # find points\n",
    "#         pivot_points = self.find_pivots(close, high, low)\n",
    "#         self.pivots = [(df.index[idx], price, label) for idx, price, label in pivot_points]\n",
    "                \n",
    "#         return self.pivots"
   ]
  },
  {
   "cell_type": "markdown",
   "metadata": {},
   "source": []
  },
  {
   "cell_type": "markdown",
   "metadata": {},
   "source": [
    "### Compare logic and speed `rolling`, `argrelextrema` and `find_pivots` method\n"
   ]
  },
  {
   "cell_type": "markdown",
   "metadata": {},
   "source": [
    "**Logic**\n"
   ]
  },
  {
   "cell_type": "code",
   "execution_count": null,
   "metadata": {},
   "outputs": [],
   "source": [
    "order = 70"
   ]
  },
  {
   "cell_type": "markdown",
   "metadata": {},
   "source": [
    "**Rolling**\n"
   ]
  },
  {
   "cell_type": "code",
   "execution_count": null,
   "metadata": {},
   "outputs": [],
   "source": [
    "def rolling_find_pivots(depth, prices):\n",
    "    pivots = []\n",
    "    \n",
    "    # Rolling max to find pivots \n",
    "    rolling_max = pd.Series(prices).rolling(depth*2, center=True).max()\n",
    "    high_indexer = np.where(prices == rolling_max)[0]\n",
    "    if (high_indexer):\n",
    "        pivots.extend(high_indexer)\n",
    "\n",
    "    for i in range(1, depth):\n",
    "        if all(prices[i] >= prices[j] for j in range(i)) and all(prices[i] >= prices[i + j] for j in range(1, depth + 1)):\n",
    "        # if np.all(prices[i] >= prices[:i]) and np.all(prices[i] >= prices[i + 1: i + depth + 1]):\n",
    "            pivots.append(i)\n",
    "        \n",
    "    for i in range(len(prices) - depth, len(prices)):\n",
    "        # if np.all(prices[i] >= prices[i - depth: i - 1]) and np.all(prices[i] >= prices[i + 1:]):\n",
    "        if all(prices[i] >= prices[i - j] for j in range(1, depth + 1)) and all(prices[i] >= prices[j] for j in range(len(prices) - i, len(prices))):\n",
    "            pivots.append(i)\n",
    "    \n",
    "    # Return indexer sorted\n",
    "    return sorted(pivots)\n",
    "    \n",
    "rolling_find_pivots(70, df[\"Close\"].to_numpy())\n",
    "    "
   ]
  },
  {
   "cell_type": "markdown",
   "metadata": {},
   "source": [
    "**Argrelextrema**\n"
   ]
  },
  {
   "cell_type": "code",
   "execution_count": null,
   "metadata": {},
   "outputs": [],
   "source": [
    "argrelextrema(df[\"Close\"].values, np.greater_equal, order=order)[0]"
   ]
  },
  {
   "cell_type": "markdown",
   "metadata": {},
   "source": [
    "**for loop**\n"
   ]
  },
  {
   "cell_type": "code",
   "execution_count": null,
   "metadata": {},
   "outputs": [],
   "source": [
    "# original loop\n",
    "def find_pivots(depth: int, prices: np.array):\n",
    "    # pivots = np.array([])\n",
    "    pivots = []\n",
    "    for i in range(1, len(prices)):\n",
    "        # edge case for beginning values\n",
    "        if i < depth:\n",
    "            is_high = all(prices[i] >= prices[j] for j in range(i)) and \\\n",
    "                        all(prices[i] >= prices[i + j] for j in range(1, depth + 1))\n",
    "        # edge case for last values\n",
    "        elif i >= len(prices) - depth:\n",
    "            is_high = all(prices[i] >= prices[i - j] for j in range(1, depth + 1)) and \\\n",
    "                        all(prices[i] >= prices[j] for j in range(len(prices) - depth, len(prices)))\n",
    "        # compare depth of candle before and after the current candle\n",
    "        else:            \n",
    "            is_high = all(prices[i] >= prices[i - j] for j in range(1, depth + 1)) and \\\n",
    "                        all(prices[i] >= prices[i + j] for j in range(1, depth + 1))\n",
    "        if is_high:\n",
    "            # pivots = np.append(pivots, [i])\n",
    "            pivots.append(i)\n",
    "            \n",
    "    return pivots\n",
    "\n",
    "find_pivots(order, df[\"Close\"].to_numpy())"
   ]
  },
  {
   "cell_type": "markdown",
   "metadata": {},
   "source": [
    "**for loop with numpy**\n"
   ]
  },
  {
   "cell_type": "code",
   "execution_count": null,
   "metadata": {},
   "outputs": [],
   "source": [
    "# numpy\n",
    "def find_pivots_numpy(depth: int, prices: np.array):\n",
    "    # pivots = np.array([])\n",
    "    pivots = []\n",
    "\n",
    "    for i in range(len(prices)):\n",
    "        start = max(0, i - depth)\n",
    "        end = min(len(prices), i + depth + 1)\n",
    "\n",
    "        if np.all(prices[i] >= prices[start:i]) and np.all(prices[i] >= prices[i+1:end]):\n",
    "            # pivots = np.append(pivots, [i])\n",
    "            pivots.append(i)\n",
    "\n",
    "    return pivots\n",
    "\n",
    "find_pivots_numpy(order, df[\"Close\"].to_numpy())"
   ]
  },
  {
   "cell_type": "markdown",
   "metadata": {},
   "source": [
    "**for loop optimized**\n"
   ]
  },
  {
   "cell_type": "code",
   "execution_count": null,
   "metadata": {},
   "outputs": [],
   "source": [
    "def find_pivots_optimized(depth, prices):\n",
    "    # pivots = np.array([])\n",
    "    pivots = []\n",
    "    prices_len = len(prices)\n",
    "\n",
    "    for i in range(prices_len):\n",
    "        start = max(0, i - depth)  # Ensures we don’t go below index 0\n",
    "        end = min(prices_len, i + depth + 1)  # Ensures we don’t exceed list length\n",
    "        \n",
    "        is_high = all(prices[i] >= prices[j] for j in range(start, i)) and \\\n",
    "                  all(prices[i] >= prices[j] for j in range(i + 1, end))\n",
    "\n",
    "        if is_high:\n",
    "            # pivots = np.append(pivots, [i])\n",
    "            pivots.append(i)\n",
    "\n",
    "    return pivots\n",
    "\n",
    "find_pivots_optimized(order, df[\"Close\"].to_numpy())"
   ]
  },
  {
   "cell_type": "markdown",
   "metadata": {},
   "source": [
    "#### test speed\n"
   ]
  },
  {
   "cell_type": "code",
   "execution_count": null,
   "metadata": {},
   "outputs": [],
   "source": [
    "from timeit import timeit"
   ]
  },
  {
   "cell_type": "code",
   "execution_count": null,
   "metadata": {},
   "outputs": [],
   "source": [
    "rolling_time = timeit(lambda: rolling_find_pivots(order, df[\"Close\"].to_numpy()), number=10000)\n",
    "# argrelextrema_time = timeit(lambda: argrelextrema(df[\"Close\"].to_numpy(), np.greater_equal, order=order), number=10000)\n",
    "# find_pivots_time = timeit(lambda: find_pivots(order, df[\"Close\"].to_numpy()), number=10000)\n",
    "# find_pivots_numpy_time = timeit(lambda: find_pivots_numpy(order, df[\"Close\"].to_numpy()), number=10000)\n",
    "# find_pivots_optimized_time = timeit(lambda: find_pivots_optimized(order, df[\"Close\"].to_numpy()), number=10000)"
   ]
  },
  {
   "cell_type": "code",
   "execution_count": null,
   "metadata": {},
   "outputs": [],
   "source": [
    "print(f\"Rolling: {rolling_time:.4f} sec\")\n",
    "# print(f\"Argrelextrema: {argrelextrema_time:.4f} sec\")\n",
    "# print(f\"Find pivots method: {find_pivots_time:.4f} sec\")\n",
    "# print(f\"Find pivots numpy method: {find_pivots_numpy_time:.4f} sec\")\n",
    "# print(f\"Find pivots optimized method: {find_pivots_optimized_time:.4f} sec\")"
   ]
  },
  {
   "cell_type": "markdown",
   "metadata": {},
   "source": []
  },
  {
   "cell_type": "markdown",
   "metadata": {},
   "source": [
    "https://stackoverflow.com/questions/62454181/zigzag-indicator-in-python\n"
   ]
  },
  {
   "cell_type": "code",
   "execution_count": null,
   "metadata": {},
   "outputs": [],
   "source": [
    "def filter(values, percentage):\n",
    "    previous = values[0] \n",
    "    mask = [True]\n",
    "    for value in values[1:]: \n",
    "        relative_difference = np.abs(value - previous)/previous\n",
    "        if relative_difference > percentage:\n",
    "            previous = value\n",
    "            mask.append(True)\n",
    "        else:\n",
    "            mask.append(False)\n",
    "    return mask"
   ]
  },
  {
   "cell_type": "code",
   "execution_count": null,
   "metadata": {},
   "outputs": [],
   "source": [
    "# Create zigzag trendline.\n",
    "########################################\n",
    "# Find peaks(max).\n",
    "data_x = df.index.values\n",
    "data_y = df['Close'].values\n",
    "peak_indexes = argrelextrema(data_y, np.greater)\n",
    "peak_indexes = peak_indexes[0]\n",
    "# Find valleys(min).\n",
    "valley_indexes = argrelextrema(data_y, np.less)\n",
    "valley_indexes = valley_indexes[0]          \n",
    "# Merge peaks and valleys data points using pandas.\n",
    "df_peaks = pd.DataFrame({'date': data_x[peak_indexes], 'zigzag_y': data_y[peak_indexes]})\n",
    "df_valleys = pd.DataFrame({'date': data_x[valley_indexes], 'zigzag_y': data_y[valley_indexes]})\n",
    "df_peaks_valleys = pd.concat([df_peaks, df_valleys], axis=0, ignore_index=True, sort=True)\n",
    "# Sort peak and valley datapoints by date.\n",
    "df_peaks_valleys = df_peaks_valleys.sort_values(by=['date'])\n",
    "p = 0.1 # 20% \n",
    "filter_mask = filter(df_peaks_valleys.zigzag_y, p)\n",
    "filtered = df_peaks_valleys[filter_mask]\n",
    "\n",
    "df_peaks_valleys[filter_mask]"
   ]
  },
  {
   "cell_type": "markdown",
   "metadata": {},
   "source": [
    "https://stackoverflow.com/questions/59559788/pandas-zigzag-segmentation-of-data-based-on-local-minima-maxima\n"
   ]
  },
  {
   "cell_type": "markdown",
   "metadata": {},
   "source": []
  },
  {
   "cell_type": "code",
   "execution_count": null,
   "metadata": {},
   "outputs": [],
   "source": [
    "def directional_change(close: np.array, high: np.array, low: np.array, sigma: float):\n",
    "    up_zig = True\n",
    "    tmp_max = high[0]\n",
    "    tmp_min = low[0]\n",
    "    tmp_max_i = 0\n",
    "    tmp_min_i = 0\n",
    "\n",
    "    # variable to store peaks and valleys zigzag line\n",
    "    tops, bottoms = [], []\n",
    "\n",
    "    for i in range(1, len(close)):\n",
    "        if up_zig:\n",
    "            if high[i] > tmp_max:\n",
    "                tmp_max = high[i]\n",
    "                tmp_max_i = i\n",
    "            elif close[i] < tmp_max * (1 - sigma):\n",
    "                tops.append([i, tmp_max_i, tmp_max])\n",
    "\n",
    "                # setup for next bottom\n",
    "                up_zig = False\n",
    "                tmp_min = low[i]\n",
    "                tmp_min_i = i\n",
    "        else:\n",
    "            if low[i] < tmp_min:\n",
    "                tmp_min = low[i]\n",
    "                tmp_min_i = i\n",
    "            elif close[i] > tmp_min * (1 + sigma):\n",
    "                bottoms.append([i, tmp_min_i, tmp_min])\n",
    "\n",
    "                # setup for next top\n",
    "                up_zig = True\n",
    "                tmp_max = high[i]\n",
    "                tmp_max_i = i\n",
    "        \n",
    "    return tops, bottoms"
   ]
  },
  {
   "cell_type": "code",
   "execution_count": null,
   "metadata": {},
   "outputs": [],
   "source": [
    "tops, bottoms = directional_change(df[\"Close\"].to_numpy(), df[\"High\"].to_numpy(), df[\"Low\"].to_numpy(), 0.1)"
   ]
  },
  {
   "cell_type": "code",
   "execution_count": null,
   "metadata": {},
   "outputs": [],
   "source": [
    "df_peaks = pd.DataFrame(tops, columns=['index', \"idx\", \"pivot\"]).iloc[:, 1:]\n",
    "df_peaks[\"label\"] = [\"High\"] * len(df_peaks)\n",
    "df_valleys = pd.DataFrame(bottoms, columns=['index', \"idx\", \"pivot\"]).iloc[:, 1:]\n",
    "df_valleys[\"label\"] = [\"Low\"] * len(df_valleys)\n",
    "df_peak_valley = pd.concat([df_peaks, df_valleys])\n",
    "df_peak_valley"
   ]
  },
  {
   "cell_type": "code",
   "execution_count": null,
   "metadata": {},
   "outputs": [],
   "source": [
    "df_peak_valley[\"idx\"].values"
   ]
  },
  {
   "cell_type": "code",
   "execution_count": null,
   "metadata": {},
   "outputs": [],
   "source": [
    "df.iloc[df_peak_valley[\"idx\"].values].index"
   ]
  },
  {
   "cell_type": "code",
   "execution_count": null,
   "metadata": {},
   "outputs": [],
   "source": [
    "df_peak_valley[\"Date\"] = df.iloc[df_peak_valley[\"idx\"].values].index\n",
    "df_peak_valley = df_peak_valley.set_index(\"Date\")\n",
    "df_peak_valley = df_peak_valley.iloc[:, 1:]\n",
    "df_peak_valley"
   ]
  },
  {
   "cell_type": "code",
   "execution_count": null,
   "metadata": {},
   "outputs": [],
   "source": [
    "df_peak_valley = df_peak_valley.sort_index()\n",
    "df_peak_valley"
   ]
  },
  {
   "cell_type": "code",
   "execution_count": null,
   "metadata": {},
   "outputs": [],
   "source": [
    "plt.figure(figsize=(20, 6))\n",
    "plt.plot(df.index, df[\"Close\"], label=\"Close Prices\")\n",
    "plt.scatter(df_peak_valley.index, df_peak_valley[\"pivot\"], c=['green' if label == \"High\" else 'red' for label in df_peak_valley[\"label\"]], label=\"Pivots\")\n",
    "plt.plot(df_peak_valley.index, df_peak_valley[\"pivot\"], color=\"black\", linestyle=\"dashed\", alpha=0.5)\n",
    "\n",
    "plt.xlabel(\"Date\")\n",
    "plt.ylabel(\"Price\")\n",
    "plt.legend()\n",
    "plt.xticks(rotation=45)\n",
    "plt.title(\"Directional Change Algorithm\")\n",
    "plt.grid()\n",
    "plt.show()"
   ]
  },
  {
   "cell_type": "markdown",
   "metadata": {},
   "source": []
  },
  {
   "cell_type": "markdown",
   "metadata": {},
   "source": [
    "### Identify resistance and support levels based on `Gaussian KDE` (like as Market Profile)\n"
   ]
  },
  {
   "cell_type": "code",
   "execution_count": null,
   "metadata": {},
   "outputs": [],
   "source": [
    "import pandas as pd\n",
    "import numpy as np\n",
    "import matplotlib.pyplot as plt\n",
    "import scipy\n",
    "import talib as ta\n",
    "\n",
    "def find_levels( \n",
    "        price: np.array, atr: float, # Log closing price, and log atr \n",
    "        first_w: float = 0.1, \n",
    "        atr_mult: float = 3.0, \n",
    "        prom_thresh: float = 0.1\n",
    "):\n",
    "    # Setup weights\n",
    "    last_w = 1.0\n",
    "    w_step = (last_w - first_w) / len(price)\n",
    "    weights = first_w + np.arange(len(price)) * w_step\n",
    "    weights[weights < 0] = 0.0\n",
    "\n",
    "    # Get kernel of price. \n",
    "    kernal = scipy.stats.gaussian_kde(price, bw_method=atr*atr_mult, weights=weights)\n",
    "\n",
    "    # Construct market profile\n",
    "    min_v = np.min(price)\n",
    "    max_v = np.max(price)\n",
    "    price_range = np.linspace(min_v, max_v, 200)\n",
    "    pdf = kernal(price_range) # Market profile\n",
    "\n",
    "    # Find significant peaks in the market profile\n",
    "    pdf_max = np.max(pdf)\n",
    "    prom_min = pdf_max * prom_thresh\n",
    "\n",
    "    peaks, props = scipy.signal.find_peaks(pdf, prominence=prom_min)  # alternative ways: rolling/ argrelextrema\n",
    "    levels = [] \n",
    "    for peak in peaks:\n",
    "        levels.append(np.exp(price_range[peak]))\n",
    "\n",
    "    return levels, peaks, props, price_range, pdf, weights\n",
    "\n",
    "def support_resistance_levels(\n",
    "        data: pd.DataFrame, lookback: int, \n",
    "        first_w: float = 0.01, atr_mult:float=3.0, prom_thresh:float =0.25\n",
    "):\n",
    "\n",
    "    # Get log average true range, \n",
    "    atr = ta.ATR(np.log(data['High']), np.log(data['Low']), np.log(data['Close']), lookback)\n",
    "\n",
    "    all_levels = [None] * len(data)\n",
    "    for i in range(lookback, len(data)):\n",
    "        i_start  = i - lookback\n",
    "        vals = np.log(data.iloc[i_start+1: i+1]['Close'].to_numpy())\n",
    "        levels, peaks, props, price_range, pdf, weights= find_levels(vals, atr.iloc[i], first_w, atr_mult, prom_thresh)\n",
    "        all_levels[i] = levels\n",
    "        \n",
    "    return all_levels\n",
    "\n",
    "def sr_penetration_signal(data: pd.DataFrame, levels: list):\n",
    "    signal = np.zeros(len(data))\n",
    "    curr_sig = 0.0\n",
    "    close_arr = data['Close'].to_numpy()\n",
    "    for i in range(1, len(data)):\n",
    "        if levels[i] is None:\n",
    "            continue\n",
    "\n",
    "        last_c = close_arr[i - 1]\n",
    "        curr_c = close_arr[i]\n",
    "\n",
    "        \n",
    "        for level in levels[i]:\n",
    "            if curr_c > level and last_c <= level: # Close cross above line\n",
    "                curr_sig = 1.0\n",
    "            elif curr_c < level and last_c >= level: # Close cross below line\n",
    "                curr_sig = -1.0\n",
    "\n",
    "        signal[i] = curr_sig\n",
    "    return signal\n",
    "\n",
    "def get_trades_from_signal(data: pd.DataFrame, signal: np.array):\n",
    "    long_trades = []\n",
    "    short_trades = []\n",
    "\n",
    "    close_arr = data['Close'].to_numpy()\n",
    "    last_sig = 0.0\n",
    "    open_trade = None\n",
    "    idx = data.index\n",
    "    for i in range(len(data)):\n",
    "        if signal[i] == 1.0 and last_sig != 1.0: # Long entry\n",
    "            if open_trade is not None:\n",
    "                open_trade[2] = idx[i] \n",
    "                open_trade[3] = close_arr[i]\n",
    "                short_trades.append(open_trade)\n",
    "\n",
    "            open_trade = [idx[i], close_arr[i], -1, np.nan]\n",
    "        if signal[i] == -1.0  and last_sig != -1.0: # Short entry\n",
    "            if open_trade is not None:\n",
    "                open_trade[2] = idx[i] \n",
    "                open_trade[3] = close_arr[i]\n",
    "                long_trades.append(open_trade)\n",
    "\n",
    "            open_trade = [idx[i], close_arr[i], -1, np.nan]\n",
    "\n",
    "        last_sig = signal[i]\n",
    "\n",
    "    long_trades = pd.DataFrame(long_trades, columns=['entry_time', 'entry_price', 'exit_time', 'exit_price'])\n",
    "    short_trades = pd.DataFrame(short_trades, columns=['entry_time', 'entry_price', 'exit_time', 'exit_price'])\n",
    "\n",
    "    long_trades['percent'] = (long_trades['exit_price'] - long_trades['entry_price']) / long_trades['entry_price'] \n",
    "    short_trades['percent'] = -1 * (short_trades['exit_price'] - short_trades['entry_price']) / short_trades['entry_price']\n",
    "    long_trades = long_trades.set_index('entry_time')\n",
    "    short_trades = short_trades.set_index('entry_time')\n",
    "    return long_trades, short_trades \n",
    "\n",
    "if __name__ == '__main__':\n",
    "   \n",
    "    # Trend following strategy\n",
    "    # data = pd.read_csv('BTCUSDT86400.csv')\n",
    "    # data['date'] = data['date'].astype('datetime64[s]')\n",
    "    # data = data.set_index('date')\n",
    "    df = df.copy()\n",
    "    plt.style.use('dark_background') \n",
    "    levels = support_resistance_levels(df, 365, first_w=1.0, atr_mult=3.0)\n",
    "\n",
    "    df['sr_signal'] = sr_penetration_signal(df, levels)\n",
    "    df['log_ret'] = np.log(df['Close']).diff().shift(-1)\n",
    "    df['sr_return'] = df['sr_signal'] * df['log_ret']\n",
    "\n",
    "    long_trades, short_trades = get_trades_from_signal(df, df['sr_signal'].to_numpy())\n",
    "\n"
   ]
  },
  {
   "cell_type": "code",
   "execution_count": null,
   "metadata": {},
   "outputs": [],
   "source": [
    "import scipy\n",
    "import talib as ta"
   ]
  },
  {
   "cell_type": "markdown",
   "metadata": {},
   "source": [
    "#### gaussian kde learning\n"
   ]
  },
  {
   "cell_type": "code",
   "execution_count": null,
   "metadata": {},
   "outputs": [],
   "source": [
    "# log price\n",
    "close = np.log(df.iloc[len(df) - 360:][\"Close\"].to_numpy())\n",
    "atr = ta.ATR(np.log(df[\"High\"].to_numpy()), np.log(df[\"Low\"].to_numpy()), np.log(df[\"Close\"].to_numpy()), 360)"
   ]
  },
  {
   "cell_type": "code",
   "execution_count": null,
   "metadata": {},
   "outputs": [],
   "source": [
    "# weight parameter for gaussian\n",
    "first_w = 0.1\n",
    "last_w = 1.0\n",
    "w_step = (last_w - first_w) / len(close)\n",
    "weights = first_w + np.arange(len(close)) * w_step\n",
    "weights[weights < 0] = 0.0"
   ]
  },
  {
   "cell_type": "code",
   "execution_count": null,
   "metadata": {},
   "outputs": [],
   "source": [
    "def price_bin_arange(min, max):\n",
    "    step = min * 1.00444444444 - min\n",
    "    return np.round(np.arange(min, max, step=step), 2)\n",
    "\n",
    "df[\"DTO\"] = df.apply(lambda row: price_bin_arange(row[\"Low\"], row[\"High\"]), axis=1)\n",
    "\n",
    "market_profile = np.concatenate(df[\"DTO\"][:100].values)\n",
    "market_profile.sort()\n",
    "bias = np.diff(market_profile)\n",
    "filtered_market_profile = market_profile[1:][bias > 100]"
   ]
  },
  {
   "cell_type": "code",
   "execution_count": null,
   "metadata": {},
   "outputs": [],
   "source": [
    "# kde = scipy.stats.gaussian_kde(close, bw_method=(atr*3)[-1], weights=weights)\n",
    "kde = scipy.stats.gaussian_kde(close)\n",
    "x = np.linspace(close.min(), close.max(), 100)\n",
    "pdf = kde(x)"
   ]
  },
  {
   "cell_type": "code",
   "execution_count": null,
   "metadata": {},
   "outputs": [],
   "source": [
    "# log price\n",
    "plt.plot(np.exp(x), pdf, label=\"KDE\")"
   ]
  },
  {
   "cell_type": "markdown",
   "metadata": {},
   "source": [
    "#### find_peaks learning\n"
   ]
  },
  {
   "cell_type": "code",
   "execution_count": null,
   "metadata": {},
   "outputs": [],
   "source": [
    "# Find peaks\n",
    "prom_min = pdf.max() * 0.1\n",
    "peaks, _ = find_peaks(pdf, prominence=prom_min)"
   ]
  },
  {
   "cell_type": "code",
   "execution_count": null,
   "metadata": {},
   "outputs": [],
   "source": [
    "peaks"
   ]
  },
  {
   "cell_type": "code",
   "execution_count": null,
   "metadata": {},
   "outputs": [],
   "source": [
    "price_levels = np.exp(x[peaks])"
   ]
  },
  {
   "cell_type": "code",
   "execution_count": null,
   "metadata": {},
   "outputs": [],
   "source": [
    "plt.plot(np.exp(x), pdf, label=\"BTC Price\")\n",
    "plt.scatter(price_levels, pdf[peaks], color='red', label=\"Peaks\", zorder=3)\n",
    "plt.xlabel(\"Price\")\n",
    "plt.ylabel(\"Time\")\n",
    "plt.title(\"Detected Peaks in BTC Prices\")\n",
    "plt.legend()\n",
    "plt.show()"
   ]
  },
  {
   "cell_type": "code",
   "execution_count": null,
   "metadata": {},
   "outputs": [],
   "source": [
    "nearest_points = []\n",
    "# tolerance = 5\n",
    "\n",
    "for level in price_levels:\n",
    "    # s_temp = df[df[\"Close\"].between(level - tolerance, level + tolerance)][\"Close\"]\n",
    "    point_idx = np.abs(df[\"Close\"][len(df) - 360:] - level).idxmin()\n",
    "    nearest_points.append(point_idx)\n",
    "\n",
    "nearest_points"
   ]
  },
  {
   "cell_type": "code",
   "execution_count": null,
   "metadata": {},
   "outputs": [],
   "source": [
    "plt.figure(figsize=(20, 8), facecolor=\"#000\")  # Set figure background color\n",
    "ax = plt.gca()  # Get current axes\n",
    "ax.set_facecolor(\"#000\")  # Set plot background color\n",
    "\n",
    "plt.plot(df.index, df[\"Close\"], label=\"Price\", color=\"#FFB22C\")\n",
    "plt.hlines(price_levels, xmin=df.index.min(), xmax=df.index.max(), label=\"Trend Line\", color=\"#854836\")\n",
    "plt.scatter(nearest_points, df[\"Close\"].loc[nearest_points], label=\"Pivot\", color=\"#F2F6D0\", zorder=3)\n",
    "\n",
    "plt.xlabel(\"Date\", color=\"white\")\n",
    "plt.ylabel(\"Price\", color=\"white\")\n",
    "plt.legend(fontsize=12, facecolor=\"white\")\n",
    "plt.xticks(rotation=45, color=\"white\")\n",
    "plt.yticks(color=\"white\")\n",
    "plt.grid(color=\"gray\")\n",
    "\n",
    "plt.show()"
   ]
  },
  {
   "cell_type": "markdown",
   "metadata": {},
   "source": []
  },
  {
   "cell_type": "code",
   "execution_count": null,
   "metadata": {},
   "outputs": [],
   "source": [
    "price_range = np.exp(x)\n",
    "hist_counts, bin_edges = np.histogram(df[\"Close\"][len(df) - 360:], bins=100)"
   ]
  },
  {
   "cell_type": "code",
   "execution_count": null,
   "metadata": {},
   "outputs": [],
   "source": [
    "sigma = hist_counts.max() / pdf.max()\n",
    "sigma"
   ]
  },
  {
   "cell_type": "code",
   "execution_count": null,
   "metadata": {},
   "outputs": [],
   "source": [
    "# Create figure and axes\n",
    "fig, axes = plt.subplots(1, 2, figsize=(20, 6), gridspec_kw={\"width_ratios\": [3, 1]}, facecolor=\"black\", sharey=True)\n",
    "fig.subplots_adjust(wspace=0)\n",
    "\n",
    "# ** LEFT CHART: Price time series **\n",
    "axes[0].plot(df.index, df[\"Close\"], color=\"#FFB22C\", linewidth=1)\n",
    "axes[0].hlines(price_levels, xmin=df.index.min(), xmax=df.index.max(), color=\"#854836\", linestyle=\"dashed\", linewidth=1)\n",
    "axes[0].scatter(nearest_points, df[\"Close\"].loc[nearest_points], color=\"#F2F6D0\", s=30)\n",
    "axes[0].set_facecolor(\"black\")\n",
    "axes[0].tick_params(axis=\"x\", colors=\"white\")\n",
    "axes[0].tick_params(axis=\"y\", colors=\"white\")\n",
    "axes[0].set_title(\"Bitcoin Price Chart\", color=\"#FFB22C\")\n",
    "axes[0].grid(True, linestyle=\"--\", linewidth=0.5, color=\"#F2F6D0\", alpha=0.5)\n",
    "\n",
    "axes[0].margins(0)\n",
    "axes[0].set_xlim(df.index.min(), df.index.max())\n",
    "\n",
    "# **RIGHT CHART: Market Profile (Price Distribution)**\n",
    "axes[1].barh(bin_edges[:-1], hist_counts, height=np.diff(bin_edges), orientation=\"horizontal\", color=\"#FFB22C\", edgecolor=\"black\")\n",
    "axes[1].plot(pdf * sigma, price_range, color=\"#F2F6D0\", linestyle=\"--\", linewidth=1.5)\n",
    "axes[1].scatter(pdf[peaks] * sigma, price_levels, color=\"#F2F6D0\", s=50, marker='x')\n",
    "axes[1].set_facecolor(\"black\")\n",
    "axes[1].tick_params(axis=\"x\", colors=\"white\")\n",
    "axes[1].tick_params(axis=\"y\", colors=\"white\")\n",
    "axes[1].yaxis.tick_right()\n",
    "axes[1].set_title(\"Market Profile\", color=\"#FFB22C\")\n",
    "axes[1].invert_xaxis()\n",
    "axes[1].grid(True, linestyle=\"--\", linewidth=0.5, color=\"#F2F6D0\", alpha=0.5)\n",
    "\n",
    "# Show plot\n",
    "plt.show()"
   ]
  },
  {
   "cell_type": "markdown",
   "metadata": {},
   "source": []
  },
  {
   "cell_type": "markdown",
   "metadata": {},
   "source": [
    "### Implement\n"
   ]
  },
  {
   "cell_type": "markdown",
   "metadata": {},
   "source": [
    "#### Zigzag\n"
   ]
  },
  {
   "cell_type": "code",
   "execution_count": 5,
   "metadata": {},
   "outputs": [],
   "source": [
    "from scripts.zigzag import ZigZag"
   ]
  },
  {
   "cell_type": "code",
   "execution_count": 6,
   "metadata": {},
   "outputs": [
    {
     "data": {
      "text/plain": [
       "[(Timestamp('2023-10-15 00:00:00'), 26808.25, 'Low'),\n",
       " (Timestamp('2023-12-08 00:00:00'), 44700.0, 'High'),\n",
       " (Timestamp('2024-01-03 00:00:00'), 40750.0, 'Low'),\n",
       " (Timestamp('2024-01-11 00:00:00'), 48969.48, 'High'),\n",
       " (Timestamp('2024-01-23 00:00:00'), 38555.0, 'Low'),\n",
       " (Timestamp('2024-03-14 00:00:00'), 73777.0, 'High'),\n",
       " (Timestamp('2024-03-20 00:00:00'), 60775.0, 'Low'),\n",
       " (Timestamp('2024-04-08 00:00:00'), 72797.99, 'High'),\n",
       " (Timestamp('2024-05-01 00:00:00'), 56552.82, 'Low'),\n",
       " (Timestamp('2024-06-07 00:00:00'), 71997.02, 'High'),\n",
       " (Timestamp('2024-07-05 00:00:00'), 53485.93, 'Low'),\n",
       " (Timestamp('2024-07-29 00:00:00'), 70079.99, 'High'),\n",
       " (Timestamp('2024-08-05 00:00:00'), 49000.0, 'Low'),\n",
       " (Timestamp('2024-08-25 00:00:00'), 65000.0, 'High'),\n",
       " (Timestamp('2024-09-06 00:00:00'), 52550.0, 'Low'),\n",
       " (Timestamp('2024-09-27 00:00:00'), 66498.0, 'High'),\n",
       " (Timestamp('2024-10-10 00:00:00'), 58946.0, 'Low'),\n",
       " (Timestamp('2024-11-22 00:00:00'), 99588.01, 'High'),\n",
       " (Timestamp('2024-12-05 00:00:00'), 90500.0, 'Low'),\n",
       " (Timestamp('2024-12-17 00:00:00'), 108353.0, 'High'),\n",
       " (Timestamp('2025-01-13 00:00:00'), 89256.69, 'Low'),\n",
       " (Timestamp('2025-01-20 00:00:00'), 109588.0, 'High'),\n",
       " (Timestamp('2025-02-03 00:00:00'), 91231.0, 'Low'),\n",
       " (Timestamp('2025-02-21 00:00:00'), 99475.0, 'High'),\n",
       " (Timestamp('2025-02-25 00:00:00'), 90912.01, 'Low')]"
      ]
     },
     "execution_count": 6,
     "metadata": {},
     "output_type": "execute_result"
    }
   ],
   "source": [
    "zz = ZigZag(df)\n",
    "zz.fit()\n",
    "zz.pivots"
   ]
  },
  {
   "cell_type": "code",
   "execution_count": 7,
   "metadata": {},
   "outputs": [
    {
     "data": {
      "image/png": "[encoded data removed]",
      "text/plain": [
       "<Figure size 2000x600 with 1 Axes>"
      ]
     },
     "metadata": {},
     "output_type": "display_data"
    }
   ],
   "source": [
    "zz.plot()"
   ]
  },
  {
   "cell_type": "markdown",
   "metadata": {},
   "source": []
  },
  {
   "cell_type": "markdown",
   "metadata": {},
   "source": [
    "#### Directional Change\n"
   ]
  },
  {
   "cell_type": "code",
   "execution_count": 8,
   "metadata": {},
   "outputs": [],
   "source": [
    "from scripts.directional_change import DirectionalChange"
   ]
  },
  {
   "cell_type": "code",
   "execution_count": 9,
   "metadata": {},
   "outputs": [
    {
     "data": {
      "text/plain": [
       "[(Timestamp('2023-10-15 00:00:00'), 26808.25, 'Low'),\n",
       " (Timestamp('2024-01-11 00:00:00'), 48969.48, 'High'),\n",
       " (Timestamp('2024-01-23 00:00:00'), 38555.0, 'Low'),\n",
       " (Timestamp('2024-03-14 00:00:00'), 73777.0, 'High'),\n",
       " (Timestamp('2024-03-20 00:00:00'), 60775.0, 'Low'),\n",
       " (Timestamp('2024-04-08 00:00:00'), 72797.99, 'High'),\n",
       " (Timestamp('2024-04-19 00:00:00'), 59600.01, 'Low'),\n",
       " (Timestamp('2024-04-22 00:00:00'), 67232.35, 'High'),\n",
       " (Timestamp('2024-05-01 00:00:00'), 56552.82, 'Low'),\n",
       " (Timestamp('2024-06-07 00:00:00'), 71997.02, 'High'),\n",
       " (Timestamp('2024-07-05 00:00:00'), 53485.93, 'Low'),\n",
       " (Timestamp('2024-07-29 00:00:00'), 70079.99, 'High'),\n",
       " (Timestamp('2024-08-05 00:00:00'), 49000.0, 'Low'),\n",
       " (Timestamp('2024-08-25 00:00:00'), 65000.0, 'High'),\n",
       " (Timestamp('2024-09-06 00:00:00'), 52550.0, 'Low'),\n",
       " (Timestamp('2024-12-17 00:00:00'), 108353.0, 'High'),\n",
       " (Timestamp('2024-12-30 00:00:00'), 91530.45, 'Low'),\n",
       " (Timestamp('2025-01-20 00:00:00'), 109588.0, 'High')]"
      ]
     },
     "execution_count": 9,
     "metadata": {},
     "output_type": "execute_result"
    }
   ],
   "source": [
    "dc = DirectionalChange(df, threshold=10)\n",
    "dc.fit()\n",
    "dc.pivots"
   ]
  },
  {
   "cell_type": "code",
   "execution_count": 10,
   "metadata": {},
   "outputs": [
    {
     "data": {
      "image/png": "[encoded data removed]",
      "text/plain": [
       "<Figure size 2000x600 with 1 Axes>"
      ]
     },
     "metadata": {},
     "output_type": "display_data"
    }
   ],
   "source": [
    "dc.plot()"
   ]
  },
  {
   "cell_type": "markdown",
   "metadata": {},
   "source": []
  },
  {
   "cell_type": "markdown",
   "metadata": {},
   "source": [
    "#### Market Profile & Volume Profile"
   ]
  },
  {
   "cell_type": "code",
   "execution_count": 5,
   "metadata": {},
   "outputs": [
    {
     "data": {
      "application/vnd.microsoft.datawrangler.viewer.v0+json": {
       "columns": [
        {
         "name": "Date",
         "rawType": "datetime64[ns]",
         "type": "datetime"
        },
        {
         "name": "Open",
         "rawType": "float64",
         "type": "float"
        },
        {
         "name": "High",
         "rawType": "float64",
         "type": "float"
        },
        {
         "name": "Low",
         "rawType": "float64",
         "type": "float"
        },
        {
         "name": "Close",
         "rawType": "float64",
         "type": "float"
        },
        {
         "name": "Volume",
         "rawType": "float64",
         "type": "float"
        }
       ],
       "conversionMethod": "pd.DataFrame",
       "ref": "2677914f-9b27-4968-a03b-7606c6fadbf9",
       "rows": [
        [
         "2023-10-15 00:00:00",
         "26852.48",
         "27293.33",
         "26808.25",
         "27154.15",
         "15274.6917"
        ],
        [
         "2023-10-16 00:00:00",
         "27154.14",
         "30000.0",
         "27112.66",
         "28500.78",
         "78399.22445"
        ],
        [
         "2023-10-17 00:00:00",
         "28500.77",
         "28613.65",
         "28069.32",
         "28395.91",
         "38428.44532"
        ],
        [
         "2023-10-18 00:00:00",
         "28395.91",
         "28982.36",
         "28142.87",
         "28320.0",
         "32162.47591"
        ],
        [
         "2023-10-19 00:00:00",
         "28320.0",
         "28916.89",
         "28100.66",
         "28713.71",
         "35895.50179"
        ],
        [
         "2023-10-20 00:00:00",
         "28713.71",
         "30207.55",
         "28578.29",
         "29669.04",
         "59422.0992"
        ],
        [
         "2023-10-21 00:00:00",
         "29669.05",
         "30379.99",
         "29464.77",
         "29909.8",
         "27517.51897"
        ],
        [
         "2023-10-22 00:00:00",
         "29909.8",
         "30248.0",
         "29640.0",
         "29992.46",
         "22852.54563"
        ],
        [
         "2023-10-23 00:00:00",
         "29992.46",
         "34741.91",
         "29883.6",
         "33069.99",
         "93513.64246"
        ],
        [
         "2023-10-24 00:00:00",
         "33069.99",
         "35280.0",
         "32832.34",
         "33922.73",
         "115265.02418"
        ],
        [
         "2023-10-25 00:00:00",
         "33922.73",
         "35132.85",
         "33679.05",
         "34496.05",
         "54887.02529"
        ],
        [
         "2023-10-26 00:00:00",
         "34496.05",
         "34824.13",
         "33751.0",
         "34151.66",
         "39744.66255"
        ],
        [
         "2023-10-27 00:00:00",
         "34151.66",
         "34245.0",
         "33390.95",
         "33892.02",
         "32330.40106"
        ],
        [
         "2023-10-28 00:00:00",
         "33892.01",
         "34493.33",
         "33860.0",
         "34081.0",
         "16880.13144"
        ],
        [
         "2023-10-29 00:00:00",
         "34081.01",
         "34750.11",
         "33930.0",
         "34525.89",
         "20685.52176"
        ],
        [
         "2023-10-30 00:00:00",
         "34525.88",
         "34856.0",
         "34062.84",
         "34474.73",
         "33657.95976"
        ],
        [
         "2023-10-31 00:00:00",
         "34474.74",
         "34720.49",
         "34025.0",
         "34639.77",
         "32737.89822"
        ],
        [
         "2023-11-01 00:00:00",
         "34639.78",
         "35582.0",
         "34097.39",
         "35421.43",
         "53473.28165"
        ],
        [
         "2023-11-02 00:00:00",
         "35421.43",
         "35984.99",
         "34300.0",
         "34941.59",
         "48015.57732"
        ],
        [
         "2023-11-03 00:00:00",
         "34941.58",
         "34946.5",
         "34120.0",
         "34716.78",
         "39071.20644"
        ],
        [
         "2023-11-04 00:00:00",
         "34716.78",
         "35255.0",
         "34585.18",
         "35062.07",
         "18377.55545"
        ],
        [
         "2023-11-05 00:00:00",
         "35062.06",
         "35380.0",
         "34448.0",
         "35011.88",
         "24528.73376"
        ],
        [
         "2023-11-06 00:00:00",
         "35011.89",
         "35276.33",
         "34725.9",
         "35046.09",
         "22346.47086"
        ],
        [
         "2023-11-07 00:00:00",
         "35046.09",
         "35888.0",
         "34523.06",
         "35399.12",
         "38688.73692"
        ],
        [
         "2023-11-08 00:00:00",
         "35399.13",
         "36106.0",
         "35100.0",
         "35624.72",
         "33401.34137"
        ],
        [
         "2023-11-09 00:00:00",
         "35624.72",
         "37972.24",
         "35534.05",
         "36701.09",
         "82537.88885"
        ],
        [
         "2023-11-10 00:00:00",
         "36701.1",
         "37526.0",
         "36324.71",
         "37301.63",
         "43414.04898"
        ],
        [
         "2023-11-11 00:00:00",
         "37301.63",
         "37408.26",
         "36666.93",
         "37130.0",
         "22984.97235"
        ],
        [
         "2023-11-12 00:00:00",
         "37129.99",
         "37222.22",
         "36731.1",
         "37064.13",
         "17687.18874"
        ],
        [
         "2023-11-13 00:00:00",
         "37064.13",
         "37417.99",
         "36333.0",
         "36462.93",
         "32798.18252"
        ],
        [
         "2023-11-14 00:00:00",
         "36462.93",
         "36744.0",
         "34800.0",
         "35551.19",
         "45503.68416"
        ],
        [
         "2023-11-15 00:00:00",
         "35551.2",
         "37980.0",
         "35360.0",
         "37858.2",
         "53569.13385"
        ],
        [
         "2023-11-16 00:00:00",
         "37858.2",
         "37929.54",
         "35500.0",
         "36163.51",
         "47490.39566"
        ],
        [
         "2023-11-17 00:00:00",
         "36163.51",
         "36800.0",
         "35861.1",
         "36613.92",
         "38283.61112"
        ],
        [
         "2023-11-18 00:00:00",
         "36613.91",
         "36845.49",
         "36178.58",
         "36568.1",
         "17102.24186"
        ],
        [
         "2023-11-19 00:00:00",
         "36568.11",
         "37500.0",
         "36384.02",
         "37359.86",
         "21246.34648"
        ],
        [
         "2023-11-20 00:00:00",
         "37359.85",
         "37750.0",
         "36677.0",
         "37448.78",
         "36022.70291"
        ],
        [
         "2023-11-21 00:00:00",
         "37448.79",
         "37649.44",
         "35735.0",
         "35741.65",
         "47646.54804"
        ],
        [
         "2023-11-22 00:00:00",
         "35741.65",
         "37861.1",
         "35632.01",
         "37408.34",
         "45051.30697"
        ],
        [
         "2023-11-23 00:00:00",
         "37408.35",
         "37653.44",
         "36870.0",
         "37294.28",
         "23827.92882"
        ],
        [
         "2023-11-24 00:00:00",
         "37294.27",
         "38414.0",
         "37251.51",
         "37713.57",
         "44680.80646"
        ],
        [
         "2023-11-25 00:00:00",
         "37713.57",
         "37888.0",
         "37591.1",
         "37780.67",
         "11396.14464"
        ],
        [
         "2023-11-26 00:00:00",
         "37780.67",
         "37814.63",
         "37150.0",
         "37447.43",
         "21264.53723"
        ],
        [
         "2023-11-27 00:00:00",
         "37447.42",
         "37569.23",
         "36707.0",
         "37242.7",
         "30001.07376"
        ],
        [
         "2023-11-28 00:00:00",
         "37242.7",
         "38377.0",
         "36868.41",
         "37818.87",
         "37544.46667"
        ],
        [
         "2023-11-29 00:00:00",
         "37818.88",
         "38450.0",
         "37570.0",
         "37854.64",
         "32994.19107"
        ],
        [
         "2023-11-30 00:00:00",
         "37854.65",
         "38145.85",
         "37500.0",
         "37723.96",
         "24740.29147"
        ],
        [
         "2023-12-01 00:00:00",
         "37723.97",
         "38999.0",
         "37615.86",
         "38682.52",
         "43415.66324"
        ],
        [
         "2023-12-02 00:00:00",
         "38682.51",
         "39717.14",
         "38641.61",
         "39450.35",
         "26696.92161"
        ],
        [
         "2023-12-03 00:00:00",
         "39450.35",
         "40250.0",
         "39274.86",
         "39972.26",
         "26710.65335"
        ]
       ],
       "shape": {
        "columns": 5,
        "rows": 55
       }
      },
      "text/html": [
       "<div>\n",
       "<style scoped>\n",
       "    .dataframe tbody tr th:only-of-type {\n",
       "        vertical-align: middle;\n",
       "    }\n",
       "\n",
       "    .dataframe tbody tr th {\n",
       "        vertical-align: top;\n",
       "    }\n",
       "\n",
       "    .dataframe thead th {\n",
       "        text-align: right;\n",
       "    }\n",
       "</style>\n",
       "<table border=\"1\" class=\"dataframe\">\n",
       "  <thead>\n",
       "    <tr style=\"text-align: right;\">\n",
       "      <th></th>\n",
       "      <th>Open</th>\n",
       "      <th>High</th>\n",
       "      <th>Low</th>\n",
       "      <th>Close</th>\n",
       "      <th>Volume</th>\n",
       "    </tr>\n",
       "    <tr>\n",
       "      <th>Date</th>\n",
       "      <th></th>\n",
       "      <th></th>\n",
       "      <th></th>\n",
       "      <th></th>\n",
       "      <th></th>\n",
       "    </tr>\n",
       "  </thead>\n",
       "  <tbody>\n",
       "    <tr>\n",
       "      <th>2023-10-15</th>\n",
       "      <td>26852.48</td>\n",
       "      <td>27293.33</td>\n",
       "      <td>26808.25</td>\n",
       "      <td>27154.15</td>\n",
       "      <td>15274.69170</td>\n",
       "    </tr>\n",
       "    <tr>\n",
       "      <th>2023-10-16</th>\n",
       "      <td>27154.14</td>\n",
       "      <td>30000.00</td>\n",
       "      <td>27112.66</td>\n",
       "      <td>28500.78</td>\n",
       "      <td>78399.22445</td>\n",
       "    </tr>\n",
       "    <tr>\n",
       "      <th>2023-10-17</th>\n",
       "      <td>28500.77</td>\n",
       "      <td>28613.65</td>\n",
       "      <td>28069.32</td>\n",
       "      <td>28395.91</td>\n",
       "      <td>38428.44532</td>\n",
       "    </tr>\n",
       "    <tr>\n",
       "      <th>2023-10-18</th>\n",
       "      <td>28395.91</td>\n",
       "      <td>28982.36</td>\n",
       "      <td>28142.87</td>\n",
       "      <td>28320.00</td>\n",
       "      <td>32162.47591</td>\n",
       "    </tr>\n",
       "    <tr>\n",
       "      <th>2023-10-19</th>\n",
       "      <td>28320.00</td>\n",
       "      <td>28916.89</td>\n",
       "      <td>28100.66</td>\n",
       "      <td>28713.71</td>\n",
       "      <td>35895.50179</td>\n",
       "    </tr>\n",
       "    <tr>\n",
       "      <th>2023-10-20</th>\n",
       "      <td>28713.71</td>\n",
       "      <td>30207.55</td>\n",
       "      <td>28578.29</td>\n",
       "      <td>29669.04</td>\n",
       "      <td>59422.09920</td>\n",
       "    </tr>\n",
       "    <tr>\n",
       "      <th>2023-10-21</th>\n",
       "      <td>29669.05</td>\n",
       "      <td>30379.99</td>\n",
       "      <td>29464.77</td>\n",
       "      <td>29909.80</td>\n",
       "      <td>27517.51897</td>\n",
       "    </tr>\n",
       "    <tr>\n",
       "      <th>2023-10-22</th>\n",
       "      <td>29909.80</td>\n",
       "      <td>30248.00</td>\n",
       "      <td>29640.00</td>\n",
       "      <td>29992.46</td>\n",
       "      <td>22852.54563</td>\n",
       "    </tr>\n",
       "    <tr>\n",
       "      <th>2023-10-23</th>\n",
       "      <td>29992.46</td>\n",
       "      <td>34741.91</td>\n",
       "      <td>29883.60</td>\n",
       "      <td>33069.99</td>\n",
       "      <td>93513.64246</td>\n",
       "    </tr>\n",
       "    <tr>\n",
       "      <th>2023-10-24</th>\n",
       "      <td>33069.99</td>\n",
       "      <td>35280.00</td>\n",
       "      <td>32832.34</td>\n",
       "      <td>33922.73</td>\n",
       "      <td>115265.02418</td>\n",
       "    </tr>\n",
       "    <tr>\n",
       "      <th>2023-10-25</th>\n",
       "      <td>33922.73</td>\n",
       "      <td>35132.85</td>\n",
       "      <td>33679.05</td>\n",
       "      <td>34496.05</td>\n",
       "      <td>54887.02529</td>\n",
       "    </tr>\n",
       "    <tr>\n",
       "      <th>2023-10-26</th>\n",
       "      <td>34496.05</td>\n",
       "      <td>34824.13</td>\n",
       "      <td>33751.00</td>\n",
       "      <td>34151.66</td>\n",
       "      <td>39744.66255</td>\n",
       "    </tr>\n",
       "    <tr>\n",
       "      <th>2023-10-27</th>\n",
       "      <td>34151.66</td>\n",
       "      <td>34245.00</td>\n",
       "      <td>33390.95</td>\n",
       "      <td>33892.02</td>\n",
       "      <td>32330.40106</td>\n",
       "    </tr>\n",
       "    <tr>\n",
       "      <th>2023-10-28</th>\n",
       "      <td>33892.01</td>\n",
       "      <td>34493.33</td>\n",
       "      <td>33860.00</td>\n",
       "      <td>34081.00</td>\n",
       "      <td>16880.13144</td>\n",
       "    </tr>\n",
       "    <tr>\n",
       "      <th>2023-10-29</th>\n",
       "      <td>34081.01</td>\n",
       "      <td>34750.11</td>\n",
       "      <td>33930.00</td>\n",
       "      <td>34525.89</td>\n",
       "      <td>20685.52176</td>\n",
       "    </tr>\n",
       "    <tr>\n",
       "      <th>2023-10-30</th>\n",
       "      <td>34525.88</td>\n",
       "      <td>34856.00</td>\n",
       "      <td>34062.84</td>\n",
       "      <td>34474.73</td>\n",
       "      <td>33657.95976</td>\n",
       "    </tr>\n",
       "    <tr>\n",
       "      <th>2023-10-31</th>\n",
       "      <td>34474.74</td>\n",
       "      <td>34720.49</td>\n",
       "      <td>34025.00</td>\n",
       "      <td>34639.77</td>\n",
       "      <td>32737.89822</td>\n",
       "    </tr>\n",
       "    <tr>\n",
       "      <th>2023-11-01</th>\n",
       "      <td>34639.78</td>\n",
       "      <td>35582.00</td>\n",
       "      <td>34097.39</td>\n",
       "      <td>35421.43</td>\n",
       "      <td>53473.28165</td>\n",
       "    </tr>\n",
       "    <tr>\n",
       "      <th>2023-11-02</th>\n",
       "      <td>35421.43</td>\n",
       "      <td>35984.99</td>\n",
       "      <td>34300.00</td>\n",
       "      <td>34941.59</td>\n",
       "      <td>48015.57732</td>\n",
       "    </tr>\n",
       "    <tr>\n",
       "      <th>2023-11-03</th>\n",
       "      <td>34941.58</td>\n",
       "      <td>34946.50</td>\n",
       "      <td>34120.00</td>\n",
       "      <td>34716.78</td>\n",
       "      <td>39071.20644</td>\n",
       "    </tr>\n",
       "    <tr>\n",
       "      <th>2023-11-04</th>\n",
       "      <td>34716.78</td>\n",
       "      <td>35255.00</td>\n",
       "      <td>34585.18</td>\n",
       "      <td>35062.07</td>\n",
       "      <td>18377.55545</td>\n",
       "    </tr>\n",
       "    <tr>\n",
       "      <th>2023-11-05</th>\n",
       "      <td>35062.06</td>\n",
       "      <td>35380.00</td>\n",
       "      <td>34448.00</td>\n",
       "      <td>35011.88</td>\n",
       "      <td>24528.73376</td>\n",
       "    </tr>\n",
       "    <tr>\n",
       "      <th>2023-11-06</th>\n",
       "      <td>35011.89</td>\n",
       "      <td>35276.33</td>\n",
       "      <td>34725.90</td>\n",
       "      <td>35046.09</td>\n",
       "      <td>22346.47086</td>\n",
       "    </tr>\n",
       "    <tr>\n",
       "      <th>2023-11-07</th>\n",
       "      <td>35046.09</td>\n",
       "      <td>35888.00</td>\n",
       "      <td>34523.06</td>\n",
       "      <td>35399.12</td>\n",
       "      <td>38688.73692</td>\n",
       "    </tr>\n",
       "    <tr>\n",
       "      <th>2023-11-08</th>\n",
       "      <td>35399.13</td>\n",
       "      <td>36106.00</td>\n",
       "      <td>35100.00</td>\n",
       "      <td>35624.72</td>\n",
       "      <td>33401.34137</td>\n",
       "    </tr>\n",
       "    <tr>\n",
       "      <th>2023-11-09</th>\n",
       "      <td>35624.72</td>\n",
       "      <td>37972.24</td>\n",
       "      <td>35534.05</td>\n",
       "      <td>36701.09</td>\n",
       "      <td>82537.88885</td>\n",
       "    </tr>\n",
       "    <tr>\n",
       "      <th>2023-11-10</th>\n",
       "      <td>36701.10</td>\n",
       "      <td>37526.00</td>\n",
       "      <td>36324.71</td>\n",
       "      <td>37301.63</td>\n",
       "      <td>43414.04898</td>\n",
       "    </tr>\n",
       "    <tr>\n",
       "      <th>2023-11-11</th>\n",
       "      <td>37301.63</td>\n",
       "      <td>37408.26</td>\n",
       "      <td>36666.93</td>\n",
       "      <td>37130.00</td>\n",
       "      <td>22984.97235</td>\n",
       "    </tr>\n",
       "    <tr>\n",
       "      <th>2023-11-12</th>\n",
       "      <td>37129.99</td>\n",
       "      <td>37222.22</td>\n",
       "      <td>36731.10</td>\n",
       "      <td>37064.13</td>\n",
       "      <td>17687.18874</td>\n",
       "    </tr>\n",
       "    <tr>\n",
       "      <th>2023-11-13</th>\n",
       "      <td>37064.13</td>\n",
       "      <td>37417.99</td>\n",
       "      <td>36333.00</td>\n",
       "      <td>36462.93</td>\n",
       "      <td>32798.18252</td>\n",
       "    </tr>\n",
       "    <tr>\n",
       "      <th>2023-11-14</th>\n",
       "      <td>36462.93</td>\n",
       "      <td>36744.00</td>\n",
       "      <td>34800.00</td>\n",
       "      <td>35551.19</td>\n",
       "      <td>45503.68416</td>\n",
       "    </tr>\n",
       "    <tr>\n",
       "      <th>2023-11-15</th>\n",
       "      <td>35551.20</td>\n",
       "      <td>37980.00</td>\n",
       "      <td>35360.00</td>\n",
       "      <td>37858.20</td>\n",
       "      <td>53569.13385</td>\n",
       "    </tr>\n",
       "    <tr>\n",
       "      <th>2023-11-16</th>\n",
       "      <td>37858.20</td>\n",
       "      <td>37929.54</td>\n",
       "      <td>35500.00</td>\n",
       "      <td>36163.51</td>\n",
       "      <td>47490.39566</td>\n",
       "    </tr>\n",
       "    <tr>\n",
       "      <th>2023-11-17</th>\n",
       "      <td>36163.51</td>\n",
       "      <td>36800.00</td>\n",
       "      <td>35861.10</td>\n",
       "      <td>36613.92</td>\n",
       "      <td>38283.61112</td>\n",
       "    </tr>\n",
       "    <tr>\n",
       "      <th>2023-11-18</th>\n",
       "      <td>36613.91</td>\n",
       "      <td>36845.49</td>\n",
       "      <td>36178.58</td>\n",
       "      <td>36568.10</td>\n",
       "      <td>17102.24186</td>\n",
       "    </tr>\n",
       "    <tr>\n",
       "      <th>2023-11-19</th>\n",
       "      <td>36568.11</td>\n",
       "      <td>37500.00</td>\n",
       "      <td>36384.02</td>\n",
       "      <td>37359.86</td>\n",
       "      <td>21246.34648</td>\n",
       "    </tr>\n",
       "    <tr>\n",
       "      <th>2023-11-20</th>\n",
       "      <td>37359.85</td>\n",
       "      <td>37750.00</td>\n",
       "      <td>36677.00</td>\n",
       "      <td>37448.78</td>\n",
       "      <td>36022.70291</td>\n",
       "    </tr>\n",
       "    <tr>\n",
       "      <th>2023-11-21</th>\n",
       "      <td>37448.79</td>\n",
       "      <td>37649.44</td>\n",
       "      <td>35735.00</td>\n",
       "      <td>35741.65</td>\n",
       "      <td>47646.54804</td>\n",
       "    </tr>\n",
       "    <tr>\n",
       "      <th>2023-11-22</th>\n",
       "      <td>35741.65</td>\n",
       "      <td>37861.10</td>\n",
       "      <td>35632.01</td>\n",
       "      <td>37408.34</td>\n",
       "      <td>45051.30697</td>\n",
       "    </tr>\n",
       "    <tr>\n",
       "      <th>2023-11-23</th>\n",
       "      <td>37408.35</td>\n",
       "      <td>37653.44</td>\n",
       "      <td>36870.00</td>\n",
       "      <td>37294.28</td>\n",
       "      <td>23827.92882</td>\n",
       "    </tr>\n",
       "    <tr>\n",
       "      <th>2023-11-24</th>\n",
       "      <td>37294.27</td>\n",
       "      <td>38414.00</td>\n",
       "      <td>37251.51</td>\n",
       "      <td>37713.57</td>\n",
       "      <td>44680.80646</td>\n",
       "    </tr>\n",
       "    <tr>\n",
       "      <th>2023-11-25</th>\n",
       "      <td>37713.57</td>\n",
       "      <td>37888.00</td>\n",
       "      <td>37591.10</td>\n",
       "      <td>37780.67</td>\n",
       "      <td>11396.14464</td>\n",
       "    </tr>\n",
       "    <tr>\n",
       "      <th>2023-11-26</th>\n",
       "      <td>37780.67</td>\n",
       "      <td>37814.63</td>\n",
       "      <td>37150.00</td>\n",
       "      <td>37447.43</td>\n",
       "      <td>21264.53723</td>\n",
       "    </tr>\n",
       "    <tr>\n",
       "      <th>2023-11-27</th>\n",
       "      <td>37447.42</td>\n",
       "      <td>37569.23</td>\n",
       "      <td>36707.00</td>\n",
       "      <td>37242.70</td>\n",
       "      <td>30001.07376</td>\n",
       "    </tr>\n",
       "    <tr>\n",
       "      <th>2023-11-28</th>\n",
       "      <td>37242.70</td>\n",
       "      <td>38377.00</td>\n",
       "      <td>36868.41</td>\n",
       "      <td>37818.87</td>\n",
       "      <td>37544.46667</td>\n",
       "    </tr>\n",
       "    <tr>\n",
       "      <th>2023-11-29</th>\n",
       "      <td>37818.88</td>\n",
       "      <td>38450.00</td>\n",
       "      <td>37570.00</td>\n",
       "      <td>37854.64</td>\n",
       "      <td>32994.19107</td>\n",
       "    </tr>\n",
       "    <tr>\n",
       "      <th>2023-11-30</th>\n",
       "      <td>37854.65</td>\n",
       "      <td>38145.85</td>\n",
       "      <td>37500.00</td>\n",
       "      <td>37723.96</td>\n",
       "      <td>24740.29147</td>\n",
       "    </tr>\n",
       "    <tr>\n",
       "      <th>2023-12-01</th>\n",
       "      <td>37723.97</td>\n",
       "      <td>38999.00</td>\n",
       "      <td>37615.86</td>\n",
       "      <td>38682.52</td>\n",
       "      <td>43415.66324</td>\n",
       "    </tr>\n",
       "    <tr>\n",
       "      <th>2023-12-02</th>\n",
       "      <td>38682.51</td>\n",
       "      <td>39717.14</td>\n",
       "      <td>38641.61</td>\n",
       "      <td>39450.35</td>\n",
       "      <td>26696.92161</td>\n",
       "    </tr>\n",
       "    <tr>\n",
       "      <th>2023-12-03</th>\n",
       "      <td>39450.35</td>\n",
       "      <td>40250.00</td>\n",
       "      <td>39274.86</td>\n",
       "      <td>39972.26</td>\n",
       "      <td>26710.65335</td>\n",
       "    </tr>\n",
       "    <tr>\n",
       "      <th>2023-12-04</th>\n",
       "      <td>39972.26</td>\n",
       "      <td>42420.00</td>\n",
       "      <td>39972.26</td>\n",
       "      <td>41991.10</td>\n",
       "      <td>79272.33059</td>\n",
       "    </tr>\n",
       "    <tr>\n",
       "      <th>2023-12-05</th>\n",
       "      <td>41991.10</td>\n",
       "      <td>44488.00</td>\n",
       "      <td>41414.00</td>\n",
       "      <td>44073.32</td>\n",
       "      <td>67490.74644</td>\n",
       "    </tr>\n",
       "    <tr>\n",
       "      <th>2023-12-06</th>\n",
       "      <td>44073.82</td>\n",
       "      <td>44297.21</td>\n",
       "      <td>43335.28</td>\n",
       "      <td>43762.69</td>\n",
       "      <td>51431.10492</td>\n",
       "    </tr>\n",
       "    <tr>\n",
       "      <th>2023-12-07</th>\n",
       "      <td>43762.69</td>\n",
       "      <td>44047.33</td>\n",
       "      <td>42821.10</td>\n",
       "      <td>43273.14</td>\n",
       "      <td>47103.26845</td>\n",
       "    </tr>\n",
       "    <tr>\n",
       "      <th>2023-12-08</th>\n",
       "      <td>43273.15</td>\n",
       "      <td>44700.00</td>\n",
       "      <td>43081.10</td>\n",
       "      <td>44170.99</td>\n",
       "      <td>42900.37556</td>\n",
       "    </tr>\n",
       "  </tbody>\n",
       "</table>\n",
       "</div>"
      ],
      "text/plain": [
       "                Open      High       Low     Close        Volume\n",
       "Date                                                            \n",
       "2023-10-15  26852.48  27293.33  26808.25  27154.15   15274.69170\n",
       "2023-10-16  27154.14  30000.00  27112.66  28500.78   78399.22445\n",
       "2023-10-17  28500.77  28613.65  28069.32  28395.91   38428.44532\n",
       "2023-10-18  28395.91  28982.36  28142.87  28320.00   32162.47591\n",
       "2023-10-19  28320.00  28916.89  28100.66  28713.71   35895.50179\n",
       "2023-10-20  28713.71  30207.55  28578.29  29669.04   59422.09920\n",
       "2023-10-21  29669.05  30379.99  29464.77  29909.80   27517.51897\n",
       "2023-10-22  29909.80  30248.00  29640.00  29992.46   22852.54563\n",
       "2023-10-23  29992.46  34741.91  29883.60  33069.99   93513.64246\n",
       "2023-10-24  33069.99  35280.00  32832.34  33922.73  115265.02418\n",
       "2023-10-25  33922.73  35132.85  33679.05  34496.05   54887.02529\n",
       "2023-10-26  34496.05  34824.13  33751.00  34151.66   39744.66255\n",
       "2023-10-27  34151.66  34245.00  33390.95  33892.02   32330.40106\n",
       "2023-10-28  33892.01  34493.33  33860.00  34081.00   16880.13144\n",
       "2023-10-29  34081.01  34750.11  33930.00  34525.89   20685.52176\n",
       "2023-10-30  34525.88  34856.00  34062.84  34474.73   33657.95976\n",
       "2023-10-31  34474.74  34720.49  34025.00  34639.77   32737.89822\n",
       "2023-11-01  34639.78  35582.00  34097.39  35421.43   53473.28165\n",
       "2023-11-02  35421.43  35984.99  34300.00  34941.59   48015.57732\n",
       "2023-11-03  34941.58  34946.50  34120.00  34716.78   39071.20644\n",
       "2023-11-04  34716.78  35255.00  34585.18  35062.07   18377.55545\n",
       "2023-11-05  35062.06  35380.00  34448.00  35011.88   24528.73376\n",
       "2023-11-06  35011.89  35276.33  34725.90  35046.09   22346.47086\n",
       "2023-11-07  35046.09  35888.00  34523.06  35399.12   38688.73692\n",
       "2023-11-08  35399.13  36106.00  35100.00  35624.72   33401.34137\n",
       "2023-11-09  35624.72  37972.24  35534.05  36701.09   82537.88885\n",
       "2023-11-10  36701.10  37526.00  36324.71  37301.63   43414.04898\n",
       "2023-11-11  37301.63  37408.26  36666.93  37130.00   22984.97235\n",
       "2023-11-12  37129.99  37222.22  36731.10  37064.13   17687.18874\n",
       "2023-11-13  37064.13  37417.99  36333.00  36462.93   32798.18252\n",
       "2023-11-14  36462.93  36744.00  34800.00  35551.19   45503.68416\n",
       "2023-11-15  35551.20  37980.00  35360.00  37858.20   53569.13385\n",
       "2023-11-16  37858.20  37929.54  35500.00  36163.51   47490.39566\n",
       "2023-11-17  36163.51  36800.00  35861.10  36613.92   38283.61112\n",
       "2023-11-18  36613.91  36845.49  36178.58  36568.10   17102.24186\n",
       "2023-11-19  36568.11  37500.00  36384.02  37359.86   21246.34648\n",
       "2023-11-20  37359.85  37750.00  36677.00  37448.78   36022.70291\n",
       "2023-11-21  37448.79  37649.44  35735.00  35741.65   47646.54804\n",
       "2023-11-22  35741.65  37861.10  35632.01  37408.34   45051.30697\n",
       "2023-11-23  37408.35  37653.44  36870.00  37294.28   23827.92882\n",
       "2023-11-24  37294.27  38414.00  37251.51  37713.57   44680.80646\n",
       "2023-11-25  37713.57  37888.00  37591.10  37780.67   11396.14464\n",
       "2023-11-26  37780.67  37814.63  37150.00  37447.43   21264.53723\n",
       "2023-11-27  37447.42  37569.23  36707.00  37242.70   30001.07376\n",
       "2023-11-28  37242.70  38377.00  36868.41  37818.87   37544.46667\n",
       "2023-11-29  37818.88  38450.00  37570.00  37854.64   32994.19107\n",
       "2023-11-30  37854.65  38145.85  37500.00  37723.96   24740.29147\n",
       "2023-12-01  37723.97  38999.00  37615.86  38682.52   43415.66324\n",
       "2023-12-02  38682.51  39717.14  38641.61  39450.35   26696.92161\n",
       "2023-12-03  39450.35  40250.00  39274.86  39972.26   26710.65335\n",
       "2023-12-04  39972.26  42420.00  39972.26  41991.10   79272.33059\n",
       "2023-12-05  41991.10  44488.00  41414.00  44073.32   67490.74644\n",
       "2023-12-06  44073.82  44297.21  43335.28  43762.69   51431.10492\n",
       "2023-12-07  43762.69  44047.33  42821.10  43273.14   47103.26845\n",
       "2023-12-08  43273.15  44700.00  43081.10  44170.99   42900.37556"
      ]
     },
     "execution_count": 5,
     "metadata": {},
     "output_type": "execute_result"
    }
   ],
   "source": [
    "df_slice = df.loc[\"2023-10-15\":\"2023-12-08\"]\n",
    "df_slice"
   ]
  },
  {
   "cell_type": "code",
   "execution_count": 6,
   "metadata": {},
   "outputs": [],
   "source": [
    "price_min = df_slice[\"Low\"].min()\n",
    "price_max = df_slice[\"High\"].max()\n",
    "bin_size = 30"
   ]
  },
  {
   "cell_type": "code",
   "execution_count": 7,
   "metadata": {},
   "outputs": [],
   "source": [
    "bins, bin_step = np.linspace(price_min, price_max, bin_size, retstep=True)\n",
    "tpo_counts = np.zeros(len(bins))\n",
    "volume_counts = np.zeros(len(bins))"
   ]
  },
  {
   "cell_type": "code",
   "execution_count": 48,
   "metadata": {},
   "outputs": [
    {
     "data": {
      "application/vnd.microsoft.datawrangler.viewer.v0+json": {
       "columns": [
        {
         "name": "index",
         "rawType": "int64",
         "type": "integer"
        },
        {
         "name": "Price",
         "rawType": "float64",
         "type": "float"
        },
        {
         "name": "TPOs",
         "rawType": "float64",
         "type": "float"
        }
       ],
       "conversionMethod": "pd.DataFrame",
       "ref": "bee705d0-a543-489e-b4e2-97be150727b1",
       "rows": [
        [
         "29",
         "44700.0",
         "1.0"
        ],
        [
         "28",
         "44083.043103448275",
         "3.0"
        ],
        [
         "27",
         "43466.08620689655",
         "4.0"
        ],
        [
         "26",
         "42849.129310344826",
         "4.0"
        ],
        [
         "25",
         "42232.1724137931",
         "3.0"
        ],
        [
         "24",
         "41615.21551724138",
         "2.0"
        ],
        [
         "23",
         "40998.25862068965",
         "2.0"
        ],
        [
         "22",
         "40381.30172413793",
         "2.0"
        ],
        [
         "21",
         "39764.34482758621",
         "3.0"
        ],
        [
         "20",
         "39147.387931034486",
         "3.0"
        ],
        [
         "19",
         "38530.43103448276",
         "5.0"
        ],
        [
         "18",
         "37913.474137931036",
         "14.0"
        ],
        [
         "17",
         "37296.51724137931",
         "21.0"
        ],
        [
         "16",
         "36679.56034482759",
         "19.0"
        ],
        [
         "15",
         "36062.60344827586",
         "16.0"
        ],
        [
         "14",
         "35445.64655172414",
         "14.0"
        ],
        [
         "13",
         "34828.68965517241",
         "17.0"
        ],
        [
         "12",
         "34211.73275862069",
         "17.0"
        ],
        [
         "11",
         "33594.775862068964",
         "11.0"
        ],
        [
         "10",
         "32977.81896551724",
         "3.0"
        ],
        [
         "9",
         "32360.862068965518",
         "2.0"
        ],
        [
         "8",
         "31743.905172413793",
         "1.0"
        ],
        [
         "7",
         "31126.94827586207",
         "1.0"
        ],
        [
         "6",
         "30509.991379310344",
         "2.0"
        ],
        [
         "5",
         "29893.03448275862",
         "5.0"
        ],
        [
         "4",
         "29276.0775862069",
         "7.0"
        ],
        [
         "3",
         "28659.120689655174",
         "5.0"
        ],
        [
         "2",
         "28042.16379310345",
         "5.0"
        ],
        [
         "1",
         "27425.206896551725",
         "2.0"
        ],
        [
         "0",
         "26808.25",
         "2.0"
        ]
       ],
       "shape": {
        "columns": 2,
        "rows": 30
       }
      },
      "text/html": [
       "<div>\n",
       "<style scoped>\n",
       "    .dataframe tbody tr th:only-of-type {\n",
       "        vertical-align: middle;\n",
       "    }\n",
       "\n",
       "    .dataframe tbody tr th {\n",
       "        vertical-align: top;\n",
       "    }\n",
       "\n",
       "    .dataframe thead th {\n",
       "        text-align: right;\n",
       "    }\n",
       "</style>\n",
       "<table border=\"1\" class=\"dataframe\">\n",
       "  <thead>\n",
       "    <tr style=\"text-align: right;\">\n",
       "      <th></th>\n",
       "      <th>Price</th>\n",
       "      <th>TPOs</th>\n",
       "    </tr>\n",
       "  </thead>\n",
       "  <tbody>\n",
       "    <tr>\n",
       "      <th>29</th>\n",
       "      <td>44700.000000</td>\n",
       "      <td>1.0</td>\n",
       "    </tr>\n",
       "    <tr>\n",
       "      <th>28</th>\n",
       "      <td>44083.043103</td>\n",
       "      <td>3.0</td>\n",
       "    </tr>\n",
       "    <tr>\n",
       "      <th>27</th>\n",
       "      <td>43466.086207</td>\n",
       "      <td>4.0</td>\n",
       "    </tr>\n",
       "    <tr>\n",
       "      <th>26</th>\n",
       "      <td>42849.129310</td>\n",
       "      <td>4.0</td>\n",
       "    </tr>\n",
       "    <tr>\n",
       "      <th>25</th>\n",
       "      <td>42232.172414</td>\n",
       "      <td>3.0</td>\n",
       "    </tr>\n",
       "    <tr>\n",
       "      <th>24</th>\n",
       "      <td>41615.215517</td>\n",
       "      <td>2.0</td>\n",
       "    </tr>\n",
       "    <tr>\n",
       "      <th>23</th>\n",
       "      <td>40998.258621</td>\n",
       "      <td>2.0</td>\n",
       "    </tr>\n",
       "    <tr>\n",
       "      <th>22</th>\n",
       "      <td>40381.301724</td>\n",
       "      <td>2.0</td>\n",
       "    </tr>\n",
       "    <tr>\n",
       "      <th>21</th>\n",
       "      <td>39764.344828</td>\n",
       "      <td>3.0</td>\n",
       "    </tr>\n",
       "    <tr>\n",
       "      <th>20</th>\n",
       "      <td>39147.387931</td>\n",
       "      <td>3.0</td>\n",
       "    </tr>\n",
       "    <tr>\n",
       "      <th>19</th>\n",
       "      <td>38530.431034</td>\n",
       "      <td>5.0</td>\n",
       "    </tr>\n",
       "    <tr>\n",
       "      <th>18</th>\n",
       "      <td>37913.474138</td>\n",
       "      <td>14.0</td>\n",
       "    </tr>\n",
       "    <tr>\n",
       "      <th>17</th>\n",
       "      <td>37296.517241</td>\n",
       "      <td>21.0</td>\n",
       "    </tr>\n",
       "    <tr>\n",
       "      <th>16</th>\n",
       "      <td>36679.560345</td>\n",
       "      <td>19.0</td>\n",
       "    </tr>\n",
       "    <tr>\n",
       "      <th>15</th>\n",
       "      <td>36062.603448</td>\n",
       "      <td>16.0</td>\n",
       "    </tr>\n",
       "    <tr>\n",
       "      <th>14</th>\n",
       "      <td>35445.646552</td>\n",
       "      <td>14.0</td>\n",
       "    </tr>\n",
       "    <tr>\n",
       "      <th>13</th>\n",
       "      <td>34828.689655</td>\n",
       "      <td>17.0</td>\n",
       "    </tr>\n",
       "    <tr>\n",
       "      <th>12</th>\n",
       "      <td>34211.732759</td>\n",
       "      <td>17.0</td>\n",
       "    </tr>\n",
       "    <tr>\n",
       "      <th>11</th>\n",
       "      <td>33594.775862</td>\n",
       "      <td>11.0</td>\n",
       "    </tr>\n",
       "    <tr>\n",
       "      <th>10</th>\n",
       "      <td>32977.818966</td>\n",
       "      <td>3.0</td>\n",
       "    </tr>\n",
       "    <tr>\n",
       "      <th>9</th>\n",
       "      <td>32360.862069</td>\n",
       "      <td>2.0</td>\n",
       "    </tr>\n",
       "    <tr>\n",
       "      <th>8</th>\n",
       "      <td>31743.905172</td>\n",
       "      <td>1.0</td>\n",
       "    </tr>\n",
       "    <tr>\n",
       "      <th>7</th>\n",
       "      <td>31126.948276</td>\n",
       "      <td>1.0</td>\n",
       "    </tr>\n",
       "    <tr>\n",
       "      <th>6</th>\n",
       "      <td>30509.991379</td>\n",
       "      <td>2.0</td>\n",
       "    </tr>\n",
       "    <tr>\n",
       "      <th>5</th>\n",
       "      <td>29893.034483</td>\n",
       "      <td>5.0</td>\n",
       "    </tr>\n",
       "    <tr>\n",
       "      <th>4</th>\n",
       "      <td>29276.077586</td>\n",
       "      <td>7.0</td>\n",
       "    </tr>\n",
       "    <tr>\n",
       "      <th>3</th>\n",
       "      <td>28659.120690</td>\n",
       "      <td>5.0</td>\n",
       "    </tr>\n",
       "    <tr>\n",
       "      <th>2</th>\n",
       "      <td>28042.163793</td>\n",
       "      <td>5.0</td>\n",
       "    </tr>\n",
       "    <tr>\n",
       "      <th>1</th>\n",
       "      <td>27425.206897</td>\n",
       "      <td>2.0</td>\n",
       "    </tr>\n",
       "    <tr>\n",
       "      <th>0</th>\n",
       "      <td>26808.250000</td>\n",
       "      <td>2.0</td>\n",
       "    </tr>\n",
       "  </tbody>\n",
       "</table>\n",
       "</div>"
      ],
      "text/plain": [
       "           Price  TPOs\n",
       "29  44700.000000   1.0\n",
       "28  44083.043103   3.0\n",
       "27  43466.086207   4.0\n",
       "26  42849.129310   4.0\n",
       "25  42232.172414   3.0\n",
       "24  41615.215517   2.0\n",
       "23  40998.258621   2.0\n",
       "22  40381.301724   2.0\n",
       "21  39764.344828   3.0\n",
       "20  39147.387931   3.0\n",
       "19  38530.431034   5.0\n",
       "18  37913.474138  14.0\n",
       "17  37296.517241  21.0\n",
       "16  36679.560345  19.0\n",
       "15  36062.603448  16.0\n",
       "14  35445.646552  14.0\n",
       "13  34828.689655  17.0\n",
       "12  34211.732759  17.0\n",
       "11  33594.775862  11.0\n",
       "10  32977.818966   3.0\n",
       "9   32360.862069   2.0\n",
       "8   31743.905172   1.0\n",
       "7   31126.948276   1.0\n",
       "6   30509.991379   2.0\n",
       "5   29893.034483   5.0\n",
       "4   29276.077586   7.0\n",
       "3   28659.120690   5.0\n",
       "2   28042.163793   5.0\n",
       "1   27425.206897   2.0\n",
       "0   26808.250000   2.0"
      ]
     },
     "execution_count": 48,
     "metadata": {},
     "output_type": "execute_result"
    }
   ],
   "source": [
    "# tpo\n",
    "for _, row in df_slice.iterrows():\n",
    "    price_range = np.arange(row['Low'], row['High'] + bin_step, bin_step)\n",
    "    indicies = np.digitize(price_range, bins) - 1\n",
    "    for idx in indicies:\n",
    "        if 0 <= idx < len(tpo_counts):\n",
    "            tpo_counts[idx] += 1\n",
    "            \n",
    "profile_df = pd.DataFrame({\n",
    "    \"Price\": bins,\n",
    "    \"TPOs\": tpo_counts\n",
    "})\n",
    "profile_df = profile_df.sort_values(by='Price', ascending=False)\n",
    "profile_df"
   ]
  },
  {
   "cell_type": "code",
   "execution_count": 50,
   "metadata": {},
   "outputs": [
    {
     "data": {
      "application/vnd.microsoft.datawrangler.viewer.v0+json": {
       "columns": [
        {
         "name": "index",
         "rawType": "int64",
         "type": "integer"
        },
        {
         "name": "Price",
         "rawType": "float64",
         "type": "float"
        },
        {
         "name": "Volumes",
         "rawType": "float64",
         "type": "float"
        }
       ],
       "conversionMethod": "pd.DataFrame",
       "ref": "fd66f612-f5ce-4422-b4e9-5651d0673324",
       "rows": [
        [
         "29",
         "44700.0",
         "39117.25327"
        ],
        [
         "28",
         "44083.043103448275",
         "54818.34275333333"
        ],
        [
         "27",
         "43466.08620689655",
         "54818.34275333333"
        ],
        [
         "26",
         "42849.129310344826",
         "42804.01334133334"
        ],
        [
         "25",
         "42232.1724137931",
         "27102.923858000002"
        ],
        [
         "24",
         "41615.21551724138",
         "27102.923858000002"
        ],
        [
         "23",
         "40998.25862068965",
         "24758.017234666666"
        ],
        [
         "22",
         "40381.30172413793",
         "33656.99110466667"
        ],
        [
         "21",
         "39764.34482758621",
         "28656.44079666667"
        ],
        [
         "20",
         "39147.387931034486",
         "48383.833860833336"
        ],
        [
         "19",
         "38530.43103448276",
         "138581.13127983332"
        ],
        [
         "18",
         "37913.474137931036",
         "205280.89068316674"
        ],
        [
         "17",
         "37296.51724137931",
         "191346.01557850002"
        ],
        [
         "16",
         "36679.56034482759",
         "166001.38146766668"
        ],
        [
         "15",
         "36062.60344827586",
         "149537.38957266667"
        ],
        [
         "14",
         "35445.64655172414",
         "187382.991618"
        ],
        [
         "13",
         "34828.68965517241",
         "188488.22725744444"
        ],
        [
         "12",
         "34211.73275862069",
         "132236.0800321111"
        ],
        [
         "11",
         "33594.775862068964",
         "44220.20990711111"
        ],
        [
         "10",
         "32977.81896551724",
         "33443.409553777776"
        ],
        [
         "9",
         "32360.862068965518",
         "10390.404717777777"
        ],
        [
         "8",
         "31743.905172413793",
         "10390.404717777777"
        ],
        [
         "7",
         "31126.94827586207",
         "19562.91104111111"
        ],
        [
         "6",
         "30509.991379310344",
         "58911.24606444444"
        ],
        [
         "5",
         "29893.03448275862",
         "81597.23863111112"
        ],
        [
         "4",
         "29276.0775862069",
         "69822.277435"
        ],
        [
         "3",
         "28659.120689655174",
         "69822.277435"
        ],
        [
         "2",
         "28042.16379310345",
         "20703.88325833333"
        ],
        [
         "1",
         "27425.206896551725",
         "20703.88325833333"
        ],
        [
         "0",
         "26808.25",
         "0.0"
        ]
       ],
       "shape": {
        "columns": 2,
        "rows": 30
       }
      },
      "text/html": [
       "<div>\n",
       "<style scoped>\n",
       "    .dataframe tbody tr th:only-of-type {\n",
       "        vertical-align: middle;\n",
       "    }\n",
       "\n",
       "    .dataframe tbody tr th {\n",
       "        vertical-align: top;\n",
       "    }\n",
       "\n",
       "    .dataframe thead th {\n",
       "        text-align: right;\n",
       "    }\n",
       "</style>\n",
       "<table border=\"1\" class=\"dataframe\">\n",
       "  <thead>\n",
       "    <tr style=\"text-align: right;\">\n",
       "      <th></th>\n",
       "      <th>Price</th>\n",
       "      <th>Volumes</th>\n",
       "    </tr>\n",
       "  </thead>\n",
       "  <tbody>\n",
       "    <tr>\n",
       "      <th>29</th>\n",
       "      <td>44700.000000</td>\n",
       "      <td>39117.253270</td>\n",
       "    </tr>\n",
       "    <tr>\n",
       "      <th>28</th>\n",
       "      <td>44083.043103</td>\n",
       "      <td>54818.342753</td>\n",
       "    </tr>\n",
       "    <tr>\n",
       "      <th>27</th>\n",
       "      <td>43466.086207</td>\n",
       "      <td>54818.342753</td>\n",
       "    </tr>\n",
       "    <tr>\n",
       "      <th>26</th>\n",
       "      <td>42849.129310</td>\n",
       "      <td>42804.013341</td>\n",
       "    </tr>\n",
       "    <tr>\n",
       "      <th>25</th>\n",
       "      <td>42232.172414</td>\n",
       "      <td>27102.923858</td>\n",
       "    </tr>\n",
       "    <tr>\n",
       "      <th>24</th>\n",
       "      <td>41615.215517</td>\n",
       "      <td>27102.923858</td>\n",
       "    </tr>\n",
       "    <tr>\n",
       "      <th>23</th>\n",
       "      <td>40998.258621</td>\n",
       "      <td>24758.017235</td>\n",
       "    </tr>\n",
       "    <tr>\n",
       "      <th>22</th>\n",
       "      <td>40381.301724</td>\n",
       "      <td>33656.991105</td>\n",
       "    </tr>\n",
       "    <tr>\n",
       "      <th>21</th>\n",
       "      <td>39764.344828</td>\n",
       "      <td>28656.440797</td>\n",
       "    </tr>\n",
       "    <tr>\n",
       "      <th>20</th>\n",
       "      <td>39147.387931</td>\n",
       "      <td>48383.833861</td>\n",
       "    </tr>\n",
       "    <tr>\n",
       "      <th>19</th>\n",
       "      <td>38530.431034</td>\n",
       "      <td>138581.131280</td>\n",
       "    </tr>\n",
       "    <tr>\n",
       "      <th>18</th>\n",
       "      <td>37913.474138</td>\n",
       "      <td>205280.890683</td>\n",
       "    </tr>\n",
       "    <tr>\n",
       "      <th>17</th>\n",
       "      <td>37296.517241</td>\n",
       "      <td>191346.015579</td>\n",
       "    </tr>\n",
       "    <tr>\n",
       "      <th>16</th>\n",
       "      <td>36679.560345</td>\n",
       "      <td>166001.381468</td>\n",
       "    </tr>\n",
       "    <tr>\n",
       "      <th>15</th>\n",
       "      <td>36062.603448</td>\n",
       "      <td>149537.389573</td>\n",
       "    </tr>\n",
       "    <tr>\n",
       "      <th>14</th>\n",
       "      <td>35445.646552</td>\n",
       "      <td>187382.991618</td>\n",
       "    </tr>\n",
       "    <tr>\n",
       "      <th>13</th>\n",
       "      <td>34828.689655</td>\n",
       "      <td>188488.227257</td>\n",
       "    </tr>\n",
       "    <tr>\n",
       "      <th>12</th>\n",
       "      <td>34211.732759</td>\n",
       "      <td>132236.080032</td>\n",
       "    </tr>\n",
       "    <tr>\n",
       "      <th>11</th>\n",
       "      <td>33594.775862</td>\n",
       "      <td>44220.209907</td>\n",
       "    </tr>\n",
       "    <tr>\n",
       "      <th>10</th>\n",
       "      <td>32977.818966</td>\n",
       "      <td>33443.409554</td>\n",
       "    </tr>\n",
       "    <tr>\n",
       "      <th>9</th>\n",
       "      <td>32360.862069</td>\n",
       "      <td>10390.404718</td>\n",
       "    </tr>\n",
       "    <tr>\n",
       "      <th>8</th>\n",
       "      <td>31743.905172</td>\n",
       "      <td>10390.404718</td>\n",
       "    </tr>\n",
       "    <tr>\n",
       "      <th>7</th>\n",
       "      <td>31126.948276</td>\n",
       "      <td>19562.911041</td>\n",
       "    </tr>\n",
       "    <tr>\n",
       "      <th>6</th>\n",
       "      <td>30509.991379</td>\n",
       "      <td>58911.246064</td>\n",
       "    </tr>\n",
       "    <tr>\n",
       "      <th>5</th>\n",
       "      <td>29893.034483</td>\n",
       "      <td>81597.238631</td>\n",
       "    </tr>\n",
       "    <tr>\n",
       "      <th>4</th>\n",
       "      <td>29276.077586</td>\n",
       "      <td>69822.277435</td>\n",
       "    </tr>\n",
       "    <tr>\n",
       "      <th>3</th>\n",
       "      <td>28659.120690</td>\n",
       "      <td>69822.277435</td>\n",
       "    </tr>\n",
       "    <tr>\n",
       "      <th>2</th>\n",
       "      <td>28042.163793</td>\n",
       "      <td>20703.883258</td>\n",
       "    </tr>\n",
       "    <tr>\n",
       "      <th>1</th>\n",
       "      <td>27425.206897</td>\n",
       "      <td>20703.883258</td>\n",
       "    </tr>\n",
       "    <tr>\n",
       "      <th>0</th>\n",
       "      <td>26808.250000</td>\n",
       "      <td>0.000000</td>\n",
       "    </tr>\n",
       "  </tbody>\n",
       "</table>\n",
       "</div>"
      ],
      "text/plain": [
       "           Price        Volumes\n",
       "29  44700.000000   39117.253270\n",
       "28  44083.043103   54818.342753\n",
       "27  43466.086207   54818.342753\n",
       "26  42849.129310   42804.013341\n",
       "25  42232.172414   27102.923858\n",
       "24  41615.215517   27102.923858\n",
       "23  40998.258621   24758.017235\n",
       "22  40381.301724   33656.991105\n",
       "21  39764.344828   28656.440797\n",
       "20  39147.387931   48383.833861\n",
       "19  38530.431034  138581.131280\n",
       "18  37913.474138  205280.890683\n",
       "17  37296.517241  191346.015579\n",
       "16  36679.560345  166001.381468\n",
       "15  36062.603448  149537.389573\n",
       "14  35445.646552  187382.991618\n",
       "13  34828.689655  188488.227257\n",
       "12  34211.732759  132236.080032\n",
       "11  33594.775862   44220.209907\n",
       "10  32977.818966   33443.409554\n",
       "9   32360.862069   10390.404718\n",
       "8   31743.905172   10390.404718\n",
       "7   31126.948276   19562.911041\n",
       "6   30509.991379   58911.246064\n",
       "5   29893.034483   81597.238631\n",
       "4   29276.077586   69822.277435\n",
       "3   28659.120690   69822.277435\n",
       "2   28042.163793   20703.883258\n",
       "1   27425.206897   20703.883258\n",
       "0   26808.250000       0.000000"
      ]
     },
     "execution_count": 50,
     "metadata": {},
     "output_type": "execute_result"
    }
   ],
   "source": [
    "# volume\n",
    "for _, row in df_slice.iterrows():\n",
    "    price_range = np.arange(row['Low'], row['High'] + bin_step, bin_step)\n",
    "    indicies = np.digitize(price_range, bins)\n",
    "    for idx in indicies:\n",
    "        if 0 <= idx < len(volume_counts):\n",
    "            volume_counts[idx] += row['Volume'] / len(price_range)\n",
    "\n",
    "profile_df = pd.DataFrame({\n",
    "    \"Price\": bins,\n",
    "    \"Volumes\": volume_counts\n",
    "})\n",
    "\n",
    "profile_df = profile_df.sort_values(by='Price', ascending=False)\n",
    "profile_df"
   ]
  },
  {
   "cell_type": "markdown",
   "metadata": {},
   "source": [
    "##### TPOs"
   ]
  },
  {
   "cell_type": "code",
   "execution_count": 49,
   "metadata": {},
   "outputs": [
    {
     "data": {
      "image/png": "[encoded data removed]",
      "text/plain": [
       "<Figure size 500x600 with 1 Axes>"
      ]
     },
     "metadata": {},
     "output_type": "display_data"
    }
   ],
   "source": [
    "#tpo\n",
    "plt.figure(figsize=(5, 6))\n",
    "plt.bar(profile_df[\"Price\"][:-1], profile_df[\"TPOs\"][:-1], width=np.diff(profile_df[\"Price\"]), edgecolor=\"white\")\n",
    "plt.show()"
   ]
  },
  {
   "cell_type": "markdown",
   "metadata": {},
   "source": [
    "##### Volume"
   ]
  },
  {
   "cell_type": "code",
   "execution_count": 51,
   "metadata": {},
   "outputs": [
    {
     "data": {
      "image/png": "[encoded data removed]",
      "text/plain": [
       "<Figure size 500x600 with 1 Axes>"
      ]
     },
     "metadata": {},
     "output_type": "display_data"
    }
   ],
   "source": [
    "# volume\n",
    "plt.figure(figsize=(5, 6))\n",
    "plt.bar(profile_df[\"Price\"][:-1], profile_df[\"Volumes\"][:-1], width=np.diff(profile_df[\"Price\"]), edgecolor=\"white\")\n",
    "plt.show()"
   ]
  },
  {
   "cell_type": "markdown",
   "metadata": {},
   "source": [
    "##### Historgram"
   ]
  },
  {
   "cell_type": "code",
   "execution_count": null,
   "metadata": {},
   "outputs": [
    {
     "data": {
      "image/png": "[encoded data removed]",
      "text/plain": [
       "<Figure size 500x600 with 1 Axes>"
      ]
     },
     "metadata": {},
     "output_type": "display_data"
    }
   ],
   "source": [
    "# calculate histogram from matplotlib\n",
    "plt.figure(figsize=(5, 6))\n",
    "plt.hist(df_slice[\"Close\"], bins=30, edgecolor=\"white\")\n",
    "plt.show()"
   ]
  },
  {
   "cell_type": "code",
   "execution_count": 20,
   "metadata": {},
   "outputs": [
    {
     "data": {
      "text/plain": [
       "<Axes: xlabel='Close', ylabel='Density'>"
      ]
     },
     "execution_count": 20,
     "metadata": {},
     "output_type": "execute_result"
    },
    {
     "data": {
      "image/png": "[encoded data removed]",
      "text/plain": [
       "<Figure size 640x480 with 1 Axes>"
      ]
     },
     "metadata": {},
     "output_type": "display_data"
    }
   ],
   "source": [
    "plt.hist(df_slice[\"Close\"], bins=30, edgecolor=\"white\", density=True)\n",
    "sns.kdeplot(df_slice[\"Close\"])"
   ]
  },
  {
   "cell_type": "code",
   "execution_count": 18,
   "metadata": {},
   "outputs": [
    {
     "data": {
      "image/png": "[encoded data removed]",
      "text/plain": [
       "<Figure size 500x600 with 1 Axes>"
      ]
     },
     "metadata": {},
     "output_type": "display_data"
    }
   ],
   "source": [
    "# calculate histogram from numpy\n",
    "hist_count, hist = np.histogram(df_slice[\"Close\"], bins=30)\n",
    "\n",
    "# plot\n",
    "plt.figure(figsize=(5, 6))\n",
    "plt.bar(hist[:-1], hist_count, width=np.diff(hist), edgecolor=\"white\")\n",
    "plt.show()"
   ]
  },
  {
   "cell_type": "markdown",
   "metadata": {},
   "source": [
    "#### Gaussian KDE"
   ]
  },
  {
   "cell_type": "code",
   "execution_count": 21,
   "metadata": {},
   "outputs": [],
   "source": [
    "from scipy.stats import gaussian_kde"
   ]
  },
  {
   "cell_type": "code",
   "execution_count": 22,
   "metadata": {},
   "outputs": [],
   "source": [
    "# Normalize to log number\n",
    "close = np.log(df_slice[\"Close\"].values)\n",
    "high = np.log(df_slice[\"High\"].values)\n",
    "low = np.log(df_slice[\"Low\"].values)"
   ]
  },
  {
   "cell_type": "code",
   "execution_count": 45,
   "metadata": {},
   "outputs": [
    {
     "data": {
      "text/plain": [
       "array([0.46199046, 0.63252258, 0.79575774, 0.92065892, 0.98106651,\n",
       "       0.9671324 , 0.8934572 , 0.80075837, 0.74981194, 0.80788872,\n",
       "       1.02954831, 1.43648753, 2.0043755 , 2.66474828, 3.32350011,\n",
       "       3.88657126, 4.27819398, 4.44558156, 4.35902219, 4.01977958,\n",
       "       3.4737539 , 2.81367016, 2.15690632, 1.60668586, 1.21877968,\n",
       "       0.99083404, 0.87564075, 0.80816206, 0.73343658, 0.62471865])"
      ]
     },
     "execution_count": 45,
     "metadata": {},
     "output_type": "execute_result"
    }
   ],
   "source": [
    "kde = gaussian_kde(close)\n",
    "\n",
    "bin_size = 30\n",
    "price_log_range = np.linspace(low.min(), high.max(), bin_size)\n",
    "pdf = kde(price_log_range)\n",
    "pdf"
   ]
  },
  {
   "cell_type": "code",
   "execution_count": 46,
   "metadata": {},
   "outputs": [],
   "source": [
    "#convert log price to normal price\n",
    "price_range = np.exp(price_log_range)"
   ]
  },
  {
   "cell_type": "code",
   "execution_count": 47,
   "metadata": {},
   "outputs": [
    {
     "data": {
      "image/png": "[encoded data removed]",
      "text/plain": [
       "<Figure size 500x600 with 1 Axes>"
      ]
     },
     "metadata": {},
     "output_type": "display_data"
    }
   ],
   "source": [
    "plt.figure(figsize=(5, 6))\n",
    "plt.bar(price_range[:-1], pdf[:-1], width=np.diff(price_range), edgecolor=\"white\")\n",
    "plt.plot(price_range, pdf, color='orange', alpha=0.8)\n",
    "plt.show()"
   ]
  },
  {
   "cell_type": "code",
   "execution_count": null,
   "metadata": {},
   "outputs": [],
   "source": []
  }
 ],
 "metadata": {
  "kernelspec": {
   "display_name": ".trading_env",
   "language": "python",
   "name": "python3"
  },
  "language_info": {
   "codemirror_mode": {
    "name": "ipython",
    "version": 3
   },
   "file_extension": ".py",
   "mimetype": "text/x-python",
   "name": "python",
   "nbconvert_exporter": "python",
   "pygments_lexer": "ipython3",
   "version": "3.12.9"
  }
 },
 "nbformat": 4,
 "nbformat_minor": 2
}
